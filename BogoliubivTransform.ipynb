{
 "cells": [
  {
   "cell_type": "code",
   "execution_count": 1,
   "id": "3177e12b-2f6a-4cd6-b34a-0f12db927ac6",
   "metadata": {},
   "outputs": [
    {
     "name": "stderr",
     "output_type": "stream",
     "text": [
      "<frozen importlib._bootstrap>:219: RuntimeWarning: scipy._lib.messagestream.MessageStream size changed, may indicate binary incompatibility. Expected 56 from C header, got 64 from PyObject\n"
     ]
    }
   ],
   "source": [
    "from qiskit import *\n",
    "from qiskit.circuit import *\n",
    "from qiskit import Aer\n",
    "from qiskit.opflow import PauliTrotterEvolution, StateFn, PauliExpectation\n",
    "from qiskit.opflow import CircuitSampler, PauliOp\n",
    "from qiskit.opflow import I, X, Y, Z, Zero, One, Plus, Minus\n",
    "from qiskit.circuit import Parameter\n",
    "from qiskit.providers.aer import QasmSimulator\n",
    "from qiskit.tools.monitor import job_monitor\n",
    "from qiskit.providers.ibmq.managed import IBMQJobManager\n",
    "from qiskit.quantum_info import *\n",
    "\n",
    "from qiskit_nature.units import DistanceUnit\n",
    "from qiskit_nature.second_q.drivers import PySCFDriver\n",
    "\n",
    "from qiskit_nature.second_q.mappers import JordanWignerMapper\n",
    "from qiskit_nature.second_q.mappers import BravyiKitaevMapper\n",
    "from qiskit_nature.circuit.library.initial_states import HartreeFock\n",
    "from qiskit_nature.converters.second_quantization.qubit_converter import QubitConverter\n",
    "\n",
    "from qiskit_nature.drivers import Molecule\n",
    "from qiskit_nature.drivers.second_quantization import ElectronicStructureDriverType, ElectronicStructureMoleculeDriver\n",
    "from qiskit_nature.drivers import Molecule\n",
    "from qiskit_nature.drivers.second_quantization import (\n",
    "    ElectronicStructureMoleculeDriver, ElectronicStructureDriverType)\n",
    "from qiskit_nature.problems.second_quantization import ElectronicStructureProblem\n",
    "\n",
    "from qiskit import BasicAer\n",
    "from qiskit.algorithms import HamiltonianPhaseEstimation\n",
    "from qiskit.opflow import I, X, Y, Z, StateFn, PauliTrotterEvolution, Suzuki\n",
    "\n",
    "\n",
    "import numpy as np\n",
    "from numpy import pi, sqrt, array\n",
    "import matplotlib.pyplot as plt"
   ]
  },
  {
   "cell_type": "code",
   "execution_count": 2,
   "id": "3cf61538-1153-4b2e-a60d-0376b5499769",
   "metadata": {},
   "outputs": [],
   "source": [
    "from qiskit.quantum_info.operators.random import random_hermitian\n",
    "import numpy as np"
   ]
  },
  {
   "cell_type": "code",
   "execution_count": 3,
   "id": "a93bcfd3-33e3-4af3-9dfc-89d6726cfe2c",
   "metadata": {},
   "outputs": [],
   "source": [
    "driver = PySCFDriver(\n",
    "    atom=\"H 0 0 0; H 0 0 0.735\",\n",
    "    basis=\"sto3g\",\n",
    "    charge=0,\n",
    "    spin=0,\n",
    "    unit=DistanceUnit.ANGSTROM,\n",
    ")\n",
    "\n",
    "es_problem = driver.run()"
   ]
  },
  {
   "cell_type": "code",
   "execution_count": 4,
   "id": "07d6a808-013f-4638-9363-af26d4744af5",
   "metadata": {},
   "outputs": [
    {
     "name": "stdout",
     "output_type": "stream",
     "text": [
      "Fermionic Operator\n",
      "number spin orbitals=4, number terms=36\n",
      "  0.33785507740175813 * ( +_0 +_0 -_0 -_0 )\n",
      "+ 0.09046559989211565 * ( +_0 +_0 -_1 -_1 )\n",
      "+ 0.09046559989211556 * ( +_0 +_1 -_0 -_1 )\n",
      "+ 0.33229086512764827 * ( +_0 +_1 -_1 -_0 )\n",
      "+ 0.33785507740175813 * ( +_0 +_2 -_2 -_0 )\n",
      "+ 0.09046559989211565 * ( +_0 +_2 -_3 -_1 )\n",
      "+ 0.09046559989211556 * ( +_0 +_3 -_2 -_1 )\n",
      "+ 0.33229086512764827 * ( +_0 +_3 -_3 -_0 )\n",
      "+ 0.33229086512764816 * ( +_1 +_0 -_0 -_1 )\n",
      "+ 0.09046559989211574 * ( +_1 +_0 -_1 -_0 )\n",
      "+ 0.09046559989211564 * ( +_1 +_1 -_0 -_0 )\n",
      "+ 0.34928686136600906 * ( +_1 +_1 -_1 -_1 )\n",
      "+ 0.33229086512764816 * ( +_1 +_2 -_2 -_1 )\n",
      "+ 0.09046559989211574 * ( +_1 +_2 -_3 -_0 )\n",
      "+ 0.09046559989211564 * ( +_1 +_3 -_2 -_0 )\n",
      "+ 0.34928686136600906 * ( +_1 +_3 -_3 -_1 )\n",
      "+ 0.33785507740175813 * ( +_2 +_0 -_0 -_2 )\n",
      "+ 0.09046559989211565 * ( +_2 +_0 -_1 -_3 )\n",
      "+ 0.09046559989211556 * ( +_2 +_1 -_0 -_3 )\n",
      "+ 0.33229086512764827 * ( +_2 +_1 -_1 -_2 )\n",
      "+ 0.33785507740175813 * ( +_2 +_2 -_2 -_2 )\n",
      "+ 0.09046559989211565 * ( +_2 +_2 -_3 -_3 )\n",
      "+ 0.09046559989211556 * ( +_2 +_3 -_2 -_3 )\n",
      "+ 0.33229086512764827 * ( +_2 +_3 -_3 -_2 )\n",
      "+ 0.33229086512764816 * ( +_3 +_0 -_0 -_3 )\n",
      "+ 0.09046559989211574 * ( +_3 +_0 -_1 -_2 )\n",
      "+ 0.09046559989211564 * ( +_3 +_1 -_0 -_2 )\n",
      "+ 0.34928686136600906 * ( +_3 +_1 -_1 -_3 )\n",
      "+ 0.33229086512764816 * ( +_3 +_2 -_2 -_3 )\n",
      "+ 0.09046559989211574 * ( +_3 +_2 -_3 -_2 )\n",
      "+ 0.09046559989211564 * ( +_3 +_3 -_2 -_2 )\n",
      "+ 0.34928686136600906 * ( +_3 +_3 -_3 -_3 )\n",
      "+ -1.2563390730032498 * ( +_0 -_0 )\n",
      "+ -0.47189600728114245 * ( +_1 -_1 )\n",
      "+ -1.2563390730032498 * ( +_2 -_2 )\n",
      "+ -0.47189600728114245 * ( +_3 -_3 )\n"
     ]
    }
   ],
   "source": [
    "#FermionicOperator\n",
    "fermionic_op= es_problem.hamiltonian.second_q_op()\n",
    "print(fermionic_op)"
   ]
  },
  {
   "cell_type": "code",
   "execution_count": 6,
   "id": "924e54e4-a393-4cd2-ae18-d7444474aa06",
   "metadata": {},
   "outputs": [
    {
     "name": "stdout",
     "output_type": "stream",
     "text": [
      "-1.0410931415166251 * I\n",
      "- 0.7958748496863578 * Z\n",
      "+ 0.1809311997842312 * X\n"
     ]
    }
   ],
   "source": [
    "converter = QubitConverter(JordanWignerMapper(), two_qubit_reduction=True,z2symmetry_reduction=\"auto\")\n",
    "\n",
    "qubit_op_reduction = converter.convert(fermionic_op,  num_particles=es_problem.num_particles,\n",
    "                                       sector_locator=es_problem.symmetry_sector_locator)\n",
    "print(qubit_op_reduction)"
   ]
  },
  {
   "cell_type": "code",
   "execution_count": 7,
   "id": "d616aba2-314e-4f8c-a567-5ef64ae1090e",
   "metadata": {},
   "outputs": [
    {
     "name": "stdout",
     "output_type": "stream",
     "text": [
      "[[-1.83696799+0.j  0.1809312 +0.j]\n",
      " [ 0.1809312 +0.j -0.24521829+0.j]]\n"
     ]
    }
   ],
   "source": [
    "op_matrix= qubit_op_reduction.to_matrix()\n",
    "print(op_matrix)"
   ]
  },
  {
   "cell_type": "code",
   "execution_count": 104,
   "id": "a8f2a389-4a88-4c2a-993f-e041e2355df9",
   "metadata": {},
   "outputs": [
    {
     "name": "stdout",
     "output_type": "stream",
     "text": [
      "Ground_energy: -1.8572750302023788\n"
     ]
    },
    {
     "name": "stderr",
     "output_type": "stream",
     "text": [
      "/opt/conda/lib/python3.8/site-packages/scipy/sparse/linalg/_eigen/arpack/arpack.py:1265: RuntimeWarning: k >= N - 1 for N * N square matrix. Attempting to use scipy.linalg.eig instead.\n",
      "  warnings.warn(\"k >= N - 1 for N * N square matrix. \"\n"
     ]
    }
   ],
   "source": [
    "from scipy.sparse import linalg\n",
    "\n",
    "# Compute ground energy\n",
    "eigs, _ = linalg.eigsh(op_matrix, k=1, which=\"SA\")\n",
    "ground_energy = eigs[0]\n",
    "\n",
    "print(\"Ground_energy: {}\".format(ground_energy))"
   ]
  },
  {
   "cell_type": "code",
   "execution_count": 105,
   "id": "d43d59ea-f3f6-4dd3-9b04-021b6067e3ec",
   "metadata": {},
   "outputs": [
    {
     "name": "stdout",
     "output_type": "stream",
     "text": [
      "Ground_energy: -1.8572750302023788\n"
     ]
    }
   ],
   "source": [
    "from scipy.sparse import linalg\n",
    "# Compute ground energy\n",
    "eigs, _ = linalg.eigsh(op_matrix)\n",
    "ground_energy = eigs[0]\n",
    "\n",
    "print(\"Ground_energy: {}\".format(ground_energy))"
   ]
  },
  {
   "cell_type": "code",
   "execution_count": null,
   "id": "dfd33a3f-6be6-4a40-9188-b9c0ad136a6d",
   "metadata": {},
   "outputs": [],
   "source": []
  },
  {
   "cell_type": "code",
   "execution_count": 8,
   "id": "03c57df3-9b74-467e-b044-3208915a529d",
   "metadata": {},
   "outputs": [
    {
     "name": "stdout",
     "output_type": "stream",
     "text": [
      "[[-0.9937604   0.11153594]\n",
      " [-0.11153594 -0.9937604 ]]\n"
     ]
    }
   ],
   "source": [
    "# obtain basis transformation matrix (aka \"u\").\n",
    "\n",
    "eigenvalues, eigenvectors = np.linalg.eigh(op_matrix)\n",
    "basis_transformation_matrix = eigenvectors.transpose()\n",
    "transformation_basis= np.real(basis_transformation_matrix)\n",
    "print(transformation_basis)"
   ]
  },
  {
   "cell_type": "code",
   "execution_count": 34,
   "id": "1b2bbad2-5581-4d24-991f-42f754ecf3d2",
   "metadata": {},
   "outputs": [],
   "source": [
    "# Initialize the qubit register.\n",
    "register = QuantumRegister(2)\n",
    "circuit = QuantumCircuit(register)"
   ]
  },
  {
   "cell_type": "code",
   "execution_count": 35,
   "id": "5ba7245a-100d-4bf2-8edc-ecd980cf189a",
   "metadata": {},
   "outputs": [
    {
     "data": {
      "text/plain": [
       "<qiskit.circuit.instructionset.InstructionSet at 0x7f29504cc640>"
      ]
     },
     "execution_count": 35,
     "metadata": {},
     "output_type": "execute_result"
    }
   ],
   "source": [
    "from qiskit_nature.second_q.circuit.library import BogoliubovTransform\n",
    "\n",
    "# Start circuit with the inverse basis rotation, print out this step.\n",
    "bog_circuit = BogoliubovTransform(transformation_basis)\n",
    "circuit.append(bog_circuit.inverse(), register)"
   ]
  },
  {
   "cell_type": "code",
   "execution_count": 36,
   "id": "30943c13-f51b-46a9-891b-21306519fc23",
   "metadata": {},
   "outputs": [
    {
     "data": {
      "text/plain": [
       "<qiskit.circuit.instructionset.InstructionSet at 0x7f29504cca60>"
      ]
     },
     "execution_count": 36,
     "metadata": {},
     "output_type": "execute_result"
    }
   ],
   "source": [
    "# Add diagonal phase rotations to circuit.\n",
    "\n",
    "simulation_time=1\n",
    "for k, eigenvalue in enumerate(eigenvalues):\n",
    "    phase = -eigenvalue * simulation_time\n",
    "    circuit.rz(phase, k)\n",
    "    \n",
    "# Finally, restore basis.\n",
    "circuit.append(bog_circuit, register)\n"
   ]
  },
  {
   "cell_type": "code",
   "execution_count": 61,
   "id": "f5a4ea14-8c79-4c1e-893e-3ddfd10a7a3e",
   "metadata": {},
   "outputs": [
    {
     "data": {
      "image/png": "[encoded data removed]",
      "text/plain": [
       "<Figure size 460.923x144.48 with 1 Axes>"
      ]
     },
     "execution_count": 61,
     "metadata": {},
     "output_type": "execute_result"
    }
   ],
   "source": [
    "circuit.draw()"
   ]
  },
  {
   "cell_type": "code",
   "execution_count": 63,
   "id": "03ee91af-ff73-44af-8779-be2605f543b2",
   "metadata": {},
   "outputs": [
    {
     "data": {
      "image/png": "[encoded data removed]",
      "text/plain": [
       "<Figure size 521.123x144.48 with 1 Axes>"
      ]
     },
     "execution_count": 63,
     "metadata": {},
     "output_type": "execute_result"
    }
   ],
   "source": [
    "circuit.decompose().draw()"
   ]
  },
  {
   "cell_type": "code",
   "execution_count": 43,
   "id": "b0cdfa11-5312-4d1a-b22f-bb1ecd1b0112",
   "metadata": {},
   "outputs": [
    {
     "name": "stdout",
     "output_type": "stream",
     "text": [
      "Statevector([0.50527723-0.86295708j, 0.        +0.j        ,\n",
      "             0.        +0.j        , 0.        +0.j        ],\n",
      "            dims=(2, 2))\n"
     ]
    }
   ],
   "source": [
    "circuit_state = Statevector(circuit)\n",
    "print(circuit_state )"
   ]
  },
  {
   "cell_type": "code",
   "execution_count": 55,
   "id": "b2b65a26-2d60-49f7-b128-e183222fffbf",
   "metadata": {},
   "outputs": [],
   "source": [
    "from qiskit.quantum_info import random_statevector, Statevector\n",
    "from qiskit import QuantumCircuit\n",
    "\n",
    "# Initialize a random initial state.\n",
    "initial_state= random_statevector(2)"
   ]
  },
  {
   "cell_type": "code",
   "execution_count": 67,
   "id": "eb13fb1b-88f0-4a9d-b48d-3a5b2e8380d9",
   "metadata": {},
   "outputs": [],
   "source": [
    "# Numerically compute the correct circuit output.\n",
    "exact_state = scipy.sparse.linalg.expm_multiply(-1j * simulation_time * op_matrix,np.array(initial_state))"
   ]
  },
  {
   "cell_type": "code",
   "execution_count": 75,
   "id": "bf28df4a-e194-4134-8964-a754962b5ced",
   "metadata": {},
   "outputs": [
    {
     "name": "stdout",
     "output_type": "stream",
     "text": [
      "[ 0.98591381-0.0900837j  -0.09961256+0.09968064j]\n"
     ]
    }
   ],
   "source": [
    "print(exact_state)"
   ]
  },
  {
   "cell_type": "code",
   "execution_count": 70,
   "id": "09a14d6b-dafb-4ef3-b215-1af737d5d4a5",
   "metadata": {},
   "outputs": [
    {
     "name": "stdout",
     "output_type": "stream",
     "text": [
      "Statevector([ 5.05277225e-01-8.62957082e-01j,\n",
      "              1.11022302e-16-5.55111512e-17j,\n",
      "              9.81307787e-18+4.90653893e-18j,\n",
      "             -7.70371978e-34+4.90653893e-18j],\n",
      "            dims=(2, 2))\n"
     ]
    }
   ],
   "source": [
    "from qiskit import Aer\n",
    "\n",
    "# get the simulated_state\n",
    "simulator = Aer.get_backend('statevector_simulator')\n",
    "result = execute(circuit, simulator,initial_layout=initial_state).result()\n",
    "simulated_state = result.get_statevector()\n",
    "print(simulated_state)"
   ]
  },
  {
   "cell_type": "code",
   "execution_count": 94,
   "id": "25a0cda3-a56c-4bc3-b7b6-c4f2047a4c0d",
   "metadata": {},
   "outputs": [
    {
     "name": "stdout",
     "output_type": "stream",
     "text": [
      "[[ 5.05277225e-01-8.62957082e-01j  1.11022302e-16-5.55111512e-17j]\n",
      " [ 9.81307787e-18+4.90653893e-18j -7.70371978e-34+4.90653893e-18j]]\n"
     ]
    },
    {
     "name": "stderr",
     "output_type": "stream",
     "text": [
      "/tmp/ipykernel_12693/1541667450.py:1: DeprecationWarning: The return type of saved statevectors has been changed from a `numpy.ndarray` to a `qiskit.quantum_info.Statevector` as of qiskit-aer 0.10. Accessing numpy array attributes is deprecated and will result in an error in a future release. To continue using saved result objects as arrays you can explicitly cast them using  `np.asarray(object)`.\n",
      "  simulated_state_re= simulated_state.reshape((2, 2))\n"
     ]
    }
   ],
   "source": [
    "simulated_state_re= simulated_state.reshape((2, 2))\n",
    "print(simulated_state_re)"
   ]
  },
  {
   "cell_type": "code",
   "execution_count": 95,
   "id": "23627ea3-2b21-4bc8-ae75-8af35569b7db",
   "metadata": {},
   "outputs": [
    {
     "name": "stdout",
     "output_type": "stream",
     "text": [
      "[9.80141109e-01 1.21896888e-34]\n"
     ]
    }
   ],
   "source": [
    "import numpy as np\n",
    "\n",
    "# Print final fidelity.\n",
    "fidelity = abs(np.dot(simulated_state_re, np.conjugate(exact_state)))**2\n",
    "print(fidelity)"
   ]
  },
  {
   "cell_type": "code",
   "execution_count": null,
   "id": "e7e463d2-fa8c-4ddc-b14e-d019d3c2ada4",
   "metadata": {},
   "outputs": [],
   "source": []
  }
 ],
 "metadata": {
  "kernelspec": {
   "display_name": "Python 3 (ipykernel)",
   "language": "python",
   "name": "python3"
  },
  "language_info": {
   "codemirror_mode": {
    "name": "ipython",
    "version": 3
   },
   "file_extension": ".py",
   "mimetype": "text/x-python",
   "name": "python",
   "nbconvert_exporter": "python",
   "pygments_lexer": "ipython3",
   "version": "3.8.15"
  },
  "widgets": {
   "application/vnd.jupyter.widget-state+json": {
    "state": {},
    "version_major": 2,
    "version_minor": 0
   }
  }
 },
 "nbformat": 4,
 "nbformat_minor": 5
}
