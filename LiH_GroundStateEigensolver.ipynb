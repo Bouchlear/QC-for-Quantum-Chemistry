{
 "cells": [
  {
   "cell_type": "code",
   "execution_count": 1,
   "id": "fca8f967-7e9c-4ef4-9ba7-6550512bff71",
   "metadata": {},
   "outputs": [
    {
     "name": "stdout",
     "output_type": "stream",
     "text": [
      "Requirement already satisfied: pylatexenc in /opt/conda/lib/python3.8/site-packages (2.10)\n",
      "Requirement already satisfied: qiskit_nature in /opt/conda/lib/python3.8/site-packages (0.5.0)\n",
      "Requirement already satisfied: rustworkx in /opt/conda/lib/python3.8/site-packages (from qiskit_nature) (0.12.0)\n",
      "Requirement already satisfied: qiskit-terra>=0.22.* in /opt/conda/lib/python3.8/site-packages (from qiskit_nature) (0.22.2)\n",
      "Requirement already satisfied: scikit-learn>=0.20.0 in /opt/conda/lib/python3.8/site-packages (from qiskit_nature) (1.1.3)\n",
      "Requirement already satisfied: psutil>=5 in /opt/conda/lib/python3.8/site-packages (from qiskit_nature) (5.9.0)\n",
      "Requirement already satisfied: numpy>=1.17 in /opt/conda/lib/python3.8/site-packages (from qiskit_nature) (1.22.4)\n",
      "Requirement already satisfied: scipy>=1.4 in /opt/conda/lib/python3.8/site-packages (from qiskit_nature) (1.8.0)\n",
      "Requirement already satisfied: setuptools>=40.1.0 in /opt/conda/lib/python3.8/site-packages (from qiskit_nature) (61.2.0)\n",
      "Requirement already satisfied: typing-extensions in /opt/conda/lib/python3.8/site-packages (from qiskit_nature) (4.4.0)\n",
      "Requirement already satisfied: h5py in /opt/conda/lib/python3.8/site-packages (from qiskit_nature) (3.6.0)\n",
      "Requirement already satisfied: tweedledum<2.0,>=1.1 in /opt/conda/lib/python3.8/site-packages (from qiskit-terra>=0.22.*->qiskit_nature) (1.1.1)\n",
      "Requirement already satisfied: retworkx>=0.11.0 in /opt/conda/lib/python3.8/site-packages (from qiskit-terra>=0.22.*->qiskit_nature) (0.11.0)\n",
      "Requirement already satisfied: python-dateutil>=2.8.0 in /opt/conda/lib/python3.8/site-packages (from qiskit-terra>=0.22.*->qiskit_nature) (2.8.2)\n",
      "Requirement already satisfied: dill>=0.3 in /opt/conda/lib/python3.8/site-packages (from qiskit-terra>=0.22.*->qiskit_nature) (0.3.4)\n",
      "Requirement already satisfied: sympy>=1.3 in /opt/conda/lib/python3.8/site-packages (from qiskit-terra>=0.22.*->qiskit_nature) (1.10.1)\n",
      "Requirement already satisfied: symengine>=0.9 in /opt/conda/lib/python3.8/site-packages (from qiskit-terra>=0.22.*->qiskit_nature) (0.9.2)\n",
      "Requirement already satisfied: ply>=3.10 in /opt/conda/lib/python3.8/site-packages (from qiskit-terra>=0.22.*->qiskit_nature) (3.11)\n",
      "Requirement already satisfied: stevedore>=3.0.0 in /opt/conda/lib/python3.8/site-packages (from qiskit-terra>=0.22.*->qiskit_nature) (3.5.0)\n",
      "Requirement already satisfied: six>=1.5 in /opt/conda/lib/python3.8/site-packages (from python-dateutil>=2.8.0->qiskit-terra>=0.22.*->qiskit_nature) (1.16.0)\n",
      "Requirement already satisfied: joblib>=1.0.0 in /opt/conda/lib/python3.8/site-packages (from scikit-learn>=0.20.0->qiskit_nature) (1.2.0)\n",
      "Requirement already satisfied: threadpoolctl>=2.0.0 in /opt/conda/lib/python3.8/site-packages (from scikit-learn>=0.20.0->qiskit_nature) (3.1.0)\n",
      "Requirement already satisfied: pbr!=2.1.0,>=2.0.0 in /opt/conda/lib/python3.8/site-packages (from stevedore>=3.0.0->qiskit-terra>=0.22.*->qiskit_nature) (5.8.1)\n",
      "Requirement already satisfied: mpmath>=0.19 in /opt/conda/lib/python3.8/site-packages (from sympy>=1.3->qiskit-terra>=0.22.*->qiskit_nature) (1.2.1)\n",
      "Collecting qutip\n",
      "  Downloading qutip-4.7.1-cp38-cp38-manylinux_2_17_x86_64.manylinux2014_x86_64.whl (16.7 MB)\n",
      "\u001b[K     |████████████████████████████████| 16.7 MB 50 kB/s s eta 0:00:01  |███▊                            | 2.0 MB 12.0 MB/s eta 0:00:02          | 7.8 MB 12.0 MB/s eta 0:00:01�████         | 12.0 MB 12.0 MB/s eta 0:00:01��███     | 14.2 MB 12.0 MB/s eta 0:00:019 MB 12.0 MB/s eta 0:00:01\n",
      "\u001b[?25hRequirement already satisfied: scipy>=1.0 in /opt/conda/lib/python3.8/site-packages (from qutip) (1.8.0)\n",
      "Requirement already satisfied: numpy>=1.16.6 in /opt/conda/lib/python3.8/site-packages (from qutip) (1.22.4)\n",
      "Requirement already satisfied: packaging in /opt/conda/lib/python3.8/site-packages (from qutip) (21.3)\n",
      "Requirement already satisfied: pyparsing!=3.0.5,>=2.0.2 in /opt/conda/lib/python3.8/site-packages (from packaging->qutip) (3.0.7)\n",
      "Installing collected packages: qutip\n",
      "Successfully installed qutip-4.7.1\n",
      "Requirement already satisfied: pyscf in /opt/conda/lib/python3.8/site-packages (2.0.1)\n",
      "Requirement already satisfied: scipy!=1.5.0,!=1.5.1 in /opt/conda/lib/python3.8/site-packages (from pyscf) (1.8.0)\n",
      "Requirement already satisfied: numpy!=1.16,!=1.17,>=1.13 in /opt/conda/lib/python3.8/site-packages (from pyscf) (1.22.4)\n",
      "Requirement already satisfied: h5py>=2.7 in /opt/conda/lib/python3.8/site-packages (from pyscf) (3.6.0)\n"
     ]
    }
   ],
   "source": [
    "!pip install pylatexenc\n",
    "!pip install qiskit_nature\n",
    "!pip install qutip\n",
    "!pip install pyscf"
   ]
  },
  {
   "cell_type": "code",
   "execution_count": 2,
   "id": "0e5ec2c0-3a0b-416e-b578-5673b4bc2007",
   "metadata": {},
   "outputs": [
    {
     "name": "stderr",
     "output_type": "stream",
     "text": [
      "<frozen importlib._bootstrap>:219: RuntimeWarning: scipy._lib.messagestream.MessageStream size changed, may indicate binary incompatibility. Expected 56 from C header, got 64 from PyObject\n"
     ]
    }
   ],
   "source": [
    "from qiskit_nature.drivers import UnitsType, Molecule\n",
    "from qiskit_nature.drivers.second_quantization import (\n",
    "    ElectronicStructureDriverType,\n",
    "    ElectronicStructureMoleculeDriver,\n",
    ")\n",
    "from qiskit_nature.problems.second_quantization.electronic import ElectronicStructureProblem\n",
    "from qiskit_nature.converters.second_quantization import QubitConverter\n",
    "from qiskit_nature.mappers.second_quantization import ParityMapper\n",
    "from qiskit_nature.properties.second_quantization.electronic import ParticleNumber\n",
    "from qiskit_nature.transformers.second_quantization.electronic import ActiveSpaceTransformer"
   ]
  },
  {
   "cell_type": "code",
   "execution_count": 3,
   "id": "3220c55c-5e2b-421a-8e87-16de9032cda7",
   "metadata": {},
   "outputs": [],
   "source": [
    "bond_distance = 1.5  # in Angstrom\n",
    "\n",
    "# define molecule\n",
    "molecule = Molecule(\n",
    "    geometry=[[\"Li\", [0.0, 0.0, 0.0]], [\"H\", [0.0, 0.0, bond_distance]]], charge=0, multiplicity=1\n",
    ")\n",
    "\n",
    "\n",
    "# specify driver\n",
    "driver = ElectronicStructureMoleculeDriver(\n",
    "    molecule, basis=\"sto3g\", driver_type=ElectronicStructureDriverType.PYSCF\n",
    ")\n",
    "properties = driver.run()\n",
    "\n",
    "particle_number = properties.get_property(ParticleNumber)\n",
    "\n",
    "# specify active space transformation\n",
    "active_space_trafo = ActiveSpaceTransformer(\n",
    "    num_electrons=particle_number.num_particles, num_molecular_orbitals=3\n",
    ")\n",
    "\n",
    "# define electronic structure problem\n",
    "problem = ElectronicStructureProblem(driver, transformers=[active_space_trafo])\n",
    "\n",
    "# construct qubit converter (parity mapping + 2-qubit reduction)\n",
    "qubit_converter = QubitConverter(ParityMapper(), two_qubit_reduction=True)"
   ]
  },
  {
   "cell_type": "code",
   "execution_count": 4,
   "id": "5faa3c7b-ce7f-454a-bb37-90de072d6584",
   "metadata": {},
   "outputs": [
    {
     "name": "stderr",
     "output_type": "stream",
     "text": [
      "/tmp/ipykernel_141/941170816.py:2: NatureDeprecationWarning: The qiskit_nature.algorithms.excited_state_solvers package is deprecated as of version 0.5.0 and will be removed no sooner than 3 months after the release. Instead use the qiskit_nature.second_q.algorithms.excited_state_solvers package.\n",
      "  from qiskit_nature.algorithms.ground_state_solvers import GroundStateEigensolver\n",
      "/tmp/ipykernel_141/941170816.py:2: NatureDeprecationWarning: The qiskit_nature.algorithms.pes_sampler package is deprecated as of version 0.5.0 and will be removed no sooner than 3 months after the release . Please refer to 'https://github.com/Qiskit/qiskit-nature/issues/750' for additional information regarding 'extrapolators'.\n",
      "  from qiskit_nature.algorithms.ground_state_solvers import GroundStateEigensolver\n",
      "/tmp/ipykernel_141/941170816.py:5: NatureDeprecationWarning: The qiskit_nature.algorithms.ground_state_solvers.GroundStateEigensolver class is deprecated as of version 0.5.0 and will be removed no sooner than 3 months after the release. Instead use the qiskit_nature.second_q.algorithms.ground_state_solvers.GroundStateEigensolver class.\n",
      "  np_groundstate_solver = GroundStateEigensolver(qubit_converter, np_solver)\n"
     ]
    }
   ],
   "source": [
    "from qiskit.algorithms import NumPyMinimumEigensolver\n",
    "from qiskit_nature.algorithms.ground_state_solvers import GroundStateEigensolver\n",
    "\n",
    "np_solver = NumPyMinimumEigensolver()\n",
    "np_groundstate_solver = GroundStateEigensolver(qubit_converter, np_solver)\n",
    "\n",
    "np_result = np_groundstate_solver.solve(problem)"
   ]
  },
  {
   "cell_type": "code",
   "execution_count": 5,
   "id": "2542f73b-9234-411b-ae93-8d6864bf8f1b",
   "metadata": {},
   "outputs": [
    {
     "name": "stdout",
     "output_type": "stream",
     "text": [
      "Energy: -7.863664119201318\n"
     ]
    }
   ],
   "source": [
    "import numpy as np\n",
    "\n",
    "target_energy = np.real(np_result.eigenenergies + np_result.nuclear_repulsion_energy)[0]\n",
    "print(\"Energy:\", target_energy)"
   ]
  },
  {
   "cell_type": "code",
   "execution_count": null,
   "id": "8bbaaa56-af18-45bc-ba05-f79fea40a715",
   "metadata": {},
   "outputs": [],
   "source": []
  }
 ],
 "metadata": {
  "kernelspec": {
   "display_name": "Python 3 (ipykernel)",
   "language": "python",
   "name": "python3"
  },
  "language_info": {
   "codemirror_mode": {
    "name": "ipython",
    "version": 3
   },
   "file_extension": ".py",
   "mimetype": "text/x-python",
   "name": "python",
   "nbconvert_exporter": "python",
   "pygments_lexer": "ipython3",
   "version": "3.8.13"
  },
  "widgets": {
   "application/vnd.jupyter.widget-state+json": {
    "state": {},
    "version_major": 2,
    "version_minor": 0
   }
  }
 },
 "nbformat": 4,
 "nbformat_minor": 5
}
