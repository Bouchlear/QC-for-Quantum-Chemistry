{
 "cells": [
  {
   "cell_type": "code",
   "execution_count": 1,
   "id": "d9777efd-bf11-4328-889d-c517c4d294dd",
   "metadata": {
    "tags": []
   },
   "outputs": [],
   "source": [
    "# Import necessary libraries and packages\n",
    "import math\n",
    "import matplotlib.pyplot as plt\n",
    "import numpy as np\n",
    "\n",
    "import warnings\n",
    "warnings.filterwarnings('ignore')\n",
    "\n",
    "from qiskit import Aer, IBMQ, QuantumCircuit\n",
    "from qiskit.primitives import Estimator\n",
    "from qiskit.providers.aer import StatevectorSimulator\n",
    "from qiskit.utils import QuantumInstance\n",
    "\n",
    "from qiskit.tools.jupyter import *\n",
    "from qiskit.visualization import *\n",
    "\n",
    "# Import Qiskit libraries for VQE\n",
    "from qiskit.algorithms.optimizers import SLSQP, SPSA\n",
    "\n",
    "# Import Qiskit Nature libraries\n",
    "from qiskit_nature.algorithms import GroundStateEigensolver, VQEUCCFactory\n",
    "from qiskit_nature.algorithms.ground_state_solvers.minimum_eigensolver_factories import NumPyMinimumEigensolverFactory\n",
    "from qiskit_nature.circuit.library import UCC, UCCSD\n",
    "from qiskit_nature.drivers import Molecule\n",
    "from qiskit_nature.drivers.second_quantization import ElectronicStructureDriverType, ElectronicStructureMoleculeDriver\n",
    "from qiskit_nature.converters.second_quantization import QubitConverter\n",
    "from qiskit_nature.mappers.second_quantization import BravyiKitaevMapper, JordanWignerMapper, ParityMapper\n",
    "from qiskit_nature.problems.second_quantization.electronic import ElectronicStructureProblem\n",
    "from qiskit_nature.transformers.second_quantization.electronic import ActiveSpaceTransformer\n",
    "\n",
    "from qiskit_nature.second_q.drivers import PySCFDriver\n",
    "from qiskit_nature.second_q.formats.molecule_info import MoleculeInfo\n",
    "from qiskit_nature.second_q.transformers import FreezeCoreTransformer\n",
    "\n",
    "\n",
    "from qiskit.primitives import Estimator\n",
    "from qiskit.circuit.library import EvolvedOperatorAnsatz\n",
    "from qiskit_nature.second_q.circuit.library import UCCSD, HartreeFock\n"
   ]
  },
  {
   "cell_type": "code",
   "execution_count": 2,
   "id": "08b7019f-46e5-4d75-b0c8-f6c5fcc034b0",
   "metadata": {
    "tags": []
   },
   "outputs": [
    {
     "name": "stdout",
     "output_type": "stream",
     "text": [
      "Fermionic Operator\n",
      "number spin orbitals=4, number terms=36\n",
      "  -1.2563390730032498 * ( +_0 -_0 )\n",
      "+ -0.47189600728114234 * ( +_1 -_1 )\n",
      "+ -1.2563390730032498 * ( +_2 -_2 )\n",
      "+ -0.47189600728114234 * ( +_3 -_3 )\n",
      "+ 0.33785507740175813 * ( +_0 +_0 -_0 -_0 )\n",
      "+ 0.09046559989211565 * ( +_0 +_0 -_1 -_1 )\n",
      "+ 0.09046559989211556 * ( +_0 +_1 -_0 -_1 )\n",
      "+ 0.33229086512764827 * ( +_0 +_1 -_1 -_0 )\n",
      "+ 0.33785507740175813 * ( +_0 +_2 -_2 -_0 )\n",
      "+ 0.09046559989211564 * ( +_0 +_2 -_3 -_1 )\n",
      "+ 0.09046559989211556 * ( +_0 +_3 -_2 -_1 )\n",
      "+ 0.33229086512764816 * ( +_0 +_3 -_3 -_0 )\n",
      "+ 0.33229086512764816 * ( +_1 +_0 -_0 -_1 )\n",
      "+ 0.09046559989211574 * ( +_1 +_0 -_1 -_0 )\n",
      "+ 0.09046559989211564 * ( +_1 +_1 -_0 -_0 )\n",
      "+ 0.34928686136600906 * ( +_1 +_1 -_1 -_1 )\n",
      "+ 0.33229086512764827 * ( +_1 +_2 -_2 -_1 )\n",
      "+ 0.09046559989211574 * ( +_1 +_2 -_3 -_0 )\n",
      "+ 0.09046559989211565 * ( +_1 +_3 -_2 -_0 )\n",
      "+ 0.34928686136600906 * ( +_1 +_3 -_3 -_1 )\n",
      "+ 0.33785507740175813 * ( +_2 +_0 -_0 -_2 )\n",
      "+ 0.09046559989211565 * ( +_2 +_0 -_1 -_3 )\n",
      "+ 0.09046559989211556 * ( +_2 +_1 -_0 -_3 )\n",
      "+ 0.33229086512764827 * ( +_2 +_1 -_1 -_2 )\n",
      "+ 0.33785507740175813 * ( +_2 +_2 -_2 -_2 )\n",
      "+ 0.09046559989211565 * ( +_2 +_2 -_3 -_3 )\n",
      "+ 0.09046559989211556 * ( +_2 +_3 -_2 -_3 )\n",
      "+ 0.33229086512764827 * ( +_2 +_3 -_3 -_2 )\n",
      "+ 0.33229086512764816 * ( +_3 +_0 -_0 -_3 )\n",
      "+ 0.09046559989211574 * ( +_3 +_0 -_1 -_2 )\n",
      "+ 0.09046559989211564 * ( +_3 +_1 -_0 -_2 )\n",
      "+ 0.34928686136600906 * ( +_3 +_1 -_1 -_3 )\n",
      "+ 0.33229086512764816 * ( +_3 +_2 -_2 -_3 )\n",
      "+ 0.09046559989211574 * ( +_3 +_2 -_3 -_2 )\n",
      "+ 0.09046559989211564 * ( +_3 +_3 -_2 -_2 )\n",
      "+ 0.34928686136600906 * ( +_3 +_3 -_3 -_3 )\n"
     ]
    }
   ],
   "source": [
    "molecule = MoleculeInfo([\"H\", \"H\"], [(0.0, 0.0, 0.0), (0.0, 0.0, 0.735)], charge=0, multiplicity=1)\n",
    "\n",
    "driver = PySCFDriver.from_molecule(molecule, basis=\"sto3g\")\n",
    "\n",
    "\n",
    "problem = driver.run()\n",
    "\n",
    "transformer = FreezeCoreTransformer()\n",
    "\n",
    "\n",
    "problem = transformer.transform(problem)\n",
    "\n",
    "hamiltonian_sq_op = problem.hamiltonian.second_q_op()\n",
    "print(hamiltonian_sq_op)"
   ]
  },
  {
   "cell_type": "code",
   "execution_count": 3,
   "id": "e54180fa-5f4d-402f-8e96-d549e534ee41",
   "metadata": {
    "tags": []
   },
   "outputs": [
    {
     "name": "stdout",
     "output_type": "stream",
     "text": [
      "-0.8105479805373271 * IIII\n",
      "+ 0.1721839326191555 * IIIZ\n",
      "- 0.2257534922240237 * IIZI\n",
      "+ 0.1721839326191552 * IZII\n",
      "- 0.22575349222402372 * ZIII\n",
      "+ 0.12091263261776633 * IIZZ\n",
      "+ 0.16892753870087907 * IZIZ\n",
      "+ 0.045232799946057826 * YYYY\n",
      "+ 0.045232799946057826 * XXYY\n",
      "+ 0.045232799946057826 * YYXX\n",
      "+ 0.045232799946057826 * XXXX\n",
      "+ 0.16614543256382408 * ZIIZ\n",
      "+ 0.1661454325638241 * IZZI\n",
      "+ 0.1746434306830045 * ZIZI\n",
      "+ 0.12091263261776633 * ZZII\n"
     ]
    }
   ],
   "source": [
    "from qiskit_nature.second_q.mappers import JordanWignerMapper\n",
    "\n",
    "mapper = JordanWignerMapper()\n",
    "converter = QubitConverter(mapper)\n",
    "qubit_op = converter.convert(hamiltonian_sq_op)\n",
    "print(qubit_op)"
   ]
  },
  {
   "cell_type": "code",
   "execution_count": 4,
   "id": "49dc3174-9aae-4815-b6a4-82061ed8a116",
   "metadata": {
    "tags": []
   },
   "outputs": [
    {
     "name": "stdout",
     "output_type": "stream",
     "text": [
      "-1.0523732457728594 * II\n",
      "+ 0.39793742484317907 * IZ\n",
      "- 0.39793742484317873 * ZI\n",
      "- 0.01128010425623538 * ZZ\n",
      "+ 0.18093119978423122 * XX\n"
     ]
    }
   ],
   "source": [
    "from qiskit_nature.second_q.mappers import ParityMapper\n",
    "\n",
    "converter = QubitConverter(ParityMapper(), two_qubit_reduction=True)\n",
    "qubit_op = converter.convert(hamiltonian_sq_op, num_particles=problem.num_particles)\n",
    "print(qubit_op)"
   ]
  },
  {
   "cell_type": "code",
   "execution_count": null,
   "id": "5b25e8a0-97f8-4baa-8bef-5db718a49a33",
   "metadata": {},
   "outputs": [],
   "source": [
    "\n",
    "estimator= Estimator()\n",
    "ansatz = UCC(\n",
    "    qubit_converter=converter,\n",
    "    num_particles=problem.num_particles, \n",
    "    num_spin_orbitals=problem.num_spin_orbitals,\n",
    "    excitations='sd'\n",
    ")\n",
    "\n",
    "optimizer = SLSQP(maxiter=100)\n",
    "\n",
    "\n",
    "vqe = VQE(\n",
    "    estimator, ansatz, optimizer\n",
    ")\n",
    "\n",
    "result_h2 = vqe.compute_minimum_eigenvalue(operator=qubit_op)\n",
    "energy_h2= result_h2.eigenvalue.real\n",
    "print(f\"Energy estimated of hydrogen molecule using VQE: {energy_h2}\")"
   ]
  },
  {
   "cell_type": "code",
   "execution_count": null,
   "id": "35fa5c6f-79fb-4a76-b777-b1f713d154b9",
   "metadata": {},
   "outputs": [],
   "source": []
  }
 ],
 "metadata": {
  "kernelspec": {
   "display_name": "Python 3 (ipykernel)",
   "language": "python",
   "name": "python3"
  },
  "language_info": {
   "codemirror_mode": {
    "name": "ipython",
    "version": 3
   },
   "file_extension": ".py",
   "mimetype": "text/x-python",
   "name": "python",
   "nbconvert_exporter": "python",
   "pygments_lexer": "ipython3",
   "version": "3.10.8"
  },
  "widgets": {
   "application/vnd.jupyter.widget-state+json": {
    "state": {
     "082ba81de3104e7d83f30aa93ccfd63c": {
      "model_module": "@jupyter-widgets/controls",
      "model_module_version": "2.0.0",
      "model_name": "HTMLModel",
      "state": {
       "layout": "IPY_MODEL_e270b17b2f8f47cca3f809c312b44b91",
       "style": "IPY_MODEL_c44097bff7c2448487343fdfd1bf8632",
       "value": "<p style='font-family: IBM Plex Sans, Arial, Helvetica, sans-serif; font-size: 20px; font-weight: medium;'>Circuit Properties</p>"
      }
     },
     "1ffee1c28147418c9da134aa892a7e78": {
      "model_module": "@jupyter-widgets/controls",
      "model_module_version": "2.0.0",
      "model_name": "ButtonStyleModel",
      "state": {
       "font_family": null,
       "font_size": null,
       "font_style": null,
       "font_variant": null,
       "font_weight": null,
       "text_color": null,
       "text_decoration": null
      }
     },
     "3150a710d6e64861aca9c9fc57e6083f": {
      "model_module": "@jupyter-widgets/controls",
      "model_module_version": "2.0.0",
      "model_name": "ButtonModel",
      "state": {
       "button_style": "primary",
       "description": "Clear",
       "layout": "IPY_MODEL_baa0cce273c741668b7ebda0d7ac521b",
       "style": "IPY_MODEL_1ffee1c28147418c9da134aa892a7e78",
       "tooltip": null
      }
     },
     "36273df096144240a0ec4de4858f0495": {
      "model_module": "@jupyter-widgets/controls",
      "model_module_version": "2.0.0",
      "model_name": "HTMLStyleModel",
      "state": {
       "description_width": "",
       "font_size": null,
       "text_color": null
      }
     },
     "3d485bd720c3428187ba15f56a2fca0a": {
      "model_module": "@jupyter-widgets/controls",
      "model_module_version": "2.0.0",
      "model_name": "HTMLModel",
      "state": {
       "layout": "IPY_MODEL_672841509da9448190e10c9f8d09ad37",
       "style": "IPY_MODEL_8d781df22d804fb1aa1874bfc15ea796",
       "value": "<h5>Job ID</h5>"
      }
     },
     "4ca863f0433b489b9bacc73005fbc598": {
      "model_module": "@jupyter-widgets/base",
      "model_module_version": "2.0.0",
      "model_name": "LayoutModel",
      "state": {
       "grid_template_areas": "\n                                       \". . . . right \"\n                                        ",
       "grid_template_columns": "20% 20% 20% 20% 20%",
       "width": "100%"
      }
     },
     "672841509da9448190e10c9f8d09ad37": {
      "model_module": "@jupyter-widgets/base",
      "model_module_version": "2.0.0",
      "model_name": "LayoutModel",
      "state": {
       "width": "190px"
      }
     },
     "6b83699aa882496dbe51ee085ffe37f6": {
      "model_module": "@jupyter-widgets/controls",
      "model_module_version": "2.0.0",
      "model_name": "HTMLStyleModel",
      "state": {
       "description_width": "",
       "font_size": null,
       "text_color": null
      }
     },
     "7eddcbb88b434c9bbc61ba0d6bd77b17": {
      "model_module": "@jupyter-widgets/controls",
      "model_module_version": "2.0.0",
      "model_name": "GridBoxModel",
      "state": {
       "children": [
        "IPY_MODEL_3150a710d6e64861aca9c9fc57e6083f"
       ],
       "layout": "IPY_MODEL_4ca863f0433b489b9bacc73005fbc598"
      }
     },
     "86659edf49f14f4daf6653d6714402c9": {
      "model_module": "@jupyter-widgets/controls",
      "model_module_version": "2.0.0",
      "model_name": "HBoxModel",
      "state": {
       "children": [
        "IPY_MODEL_3d485bd720c3428187ba15f56a2fca0a",
        "IPY_MODEL_9f61a45718c7433a86ff774d7abe2c17",
        "IPY_MODEL_90f4ea416c26467f95be02b227d9fe4d",
        "IPY_MODEL_baec2f81c945477581bd0ef37a638810",
        "IPY_MODEL_9c19dffa61be418aa13780f13aa485a6"
       ],
       "layout": "IPY_MODEL_acdee10c9cd34f4cbf55051f237b125f"
      }
     },
     "8d781df22d804fb1aa1874bfc15ea796": {
      "model_module": "@jupyter-widgets/controls",
      "model_module_version": "2.0.0",
      "model_name": "HTMLStyleModel",
      "state": {
       "description_width": "",
       "font_size": null,
       "text_color": null
      }
     },
     "90f4ea416c26467f95be02b227d9fe4d": {
      "model_module": "@jupyter-widgets/controls",
      "model_module_version": "2.0.0",
      "model_name": "HTMLModel",
      "state": {
       "layout": "IPY_MODEL_ece6df6a464247e4ab7ec1eb64ca5f7e",
       "style": "IPY_MODEL_a3cd9f5a0bd148089d39ba42fbc6ab4c",
       "value": "<h5>Status</h5>"
      }
     },
     "984a23303d964a2682004655a7baa878": {
      "model_module": "@jupyter-widgets/base",
      "model_module_version": "2.0.0",
      "model_name": "LayoutModel",
      "state": {
       "width": "70px"
      }
     },
     "9c19dffa61be418aa13780f13aa485a6": {
      "model_module": "@jupyter-widgets/controls",
      "model_module_version": "2.0.0",
      "model_name": "HTMLModel",
      "state": {
       "layout": "IPY_MODEL_aff4eb33180548f7903eae182cf9e6ba",
       "style": "IPY_MODEL_6b83699aa882496dbe51ee085ffe37f6",
       "value": "<h5>Message</h5>"
      }
     },
     "9f61a45718c7433a86ff774d7abe2c17": {
      "model_module": "@jupyter-widgets/controls",
      "model_module_version": "2.0.0",
      "model_name": "HTMLModel",
      "state": {
       "layout": "IPY_MODEL_e8aa5495bc0944a59f597aa03bd8faee",
       "style": "IPY_MODEL_a2e98c0e5b984ee0bd912f35fbc40f35",
       "value": "<h5>Backend</h5>"
      }
     },
     "a2e98c0e5b984ee0bd912f35fbc40f35": {
      "model_module": "@jupyter-widgets/controls",
      "model_module_version": "2.0.0",
      "model_name": "HTMLStyleModel",
      "state": {
       "description_width": "",
       "font_size": null,
       "text_color": null
      }
     },
     "a3cd9f5a0bd148089d39ba42fbc6ab4c": {
      "model_module": "@jupyter-widgets/controls",
      "model_module_version": "2.0.0",
      "model_name": "HTMLStyleModel",
      "state": {
       "description_width": "",
       "font_size": null,
       "text_color": null
      }
     },
     "acdee10c9cd34f4cbf55051f237b125f": {
      "model_module": "@jupyter-widgets/base",
      "model_module_version": "2.0.0",
      "model_name": "LayoutModel",
      "state": {
       "margin": "0px 0px 0px 37px",
       "width": "600px"
      }
     },
     "aff4eb33180548f7903eae182cf9e6ba": {
      "model_module": "@jupyter-widgets/base",
      "model_module_version": "2.0.0",
      "model_name": "LayoutModel",
      "state": {}
     },
     "baa0cce273c741668b7ebda0d7ac521b": {
      "model_module": "@jupyter-widgets/base",
      "model_module_version": "2.0.0",
      "model_name": "LayoutModel",
      "state": {
       "grid_area": "right",
       "padding": "0px 0px 0px 0px",
       "width": "70px"
      }
     },
     "baec2f81c945477581bd0ef37a638810": {
      "model_module": "@jupyter-widgets/controls",
      "model_module_version": "2.0.0",
      "model_name": "HTMLModel",
      "state": {
       "layout": "IPY_MODEL_984a23303d964a2682004655a7baa878",
       "style": "IPY_MODEL_36273df096144240a0ec4de4858f0495",
       "value": "<h5>Queue</h5>"
      }
     },
     "c44097bff7c2448487343fdfd1bf8632": {
      "model_module": "@jupyter-widgets/controls",
      "model_module_version": "2.0.0",
      "model_name": "HTMLStyleModel",
      "state": {
       "description_width": "",
       "font_size": null,
       "text_color": null
      }
     },
     "e270b17b2f8f47cca3f809c312b44b91": {
      "model_module": "@jupyter-widgets/base",
      "model_module_version": "2.0.0",
      "model_name": "LayoutModel",
      "state": {
       "margin": "0px 0px 10px 0px"
      }
     },
     "e8aa5495bc0944a59f597aa03bd8faee": {
      "model_module": "@jupyter-widgets/base",
      "model_module_version": "2.0.0",
      "model_name": "LayoutModel",
      "state": {
       "width": "145px"
      }
     },
     "ece6df6a464247e4ab7ec1eb64ca5f7e": {
      "model_module": "@jupyter-widgets/base",
      "model_module_version": "2.0.0",
      "model_name": "LayoutModel",
      "state": {
       "width": "95px"
      }
     }
    },
    "version_major": 2,
    "version_minor": 0
   }
  }
 },
 "nbformat": 4,
 "nbformat_minor": 5
}
