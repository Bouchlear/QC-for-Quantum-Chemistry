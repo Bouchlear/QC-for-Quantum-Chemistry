{
 "cells": [
  {
   "cell_type": "code",
   "execution_count": 1,
   "id": "7ec3e6c5-3dc4-4798-b26e-cde44f155642",
   "metadata": {
    "tags": []
   },
   "outputs": [],
   "source": [
    "# Import necessary libraries and packages\n",
    "import math\n",
    "import matplotlib.pyplot as plt\n",
    "import numpy as np\n",
    "\n",
    "import warnings\n",
    "warnings.filterwarnings('ignore')\n",
    "\n",
    "from qiskit import Aer, IBMQ, QuantumCircuit\n",
    "from qiskit.primitives import Estimator\n",
    "from qiskit.providers.aer import StatevectorSimulator\n",
    "from qiskit.utils import QuantumInstance\n",
    "\n",
    "from qiskit.tools.jupyter import *\n",
    "from qiskit.visualization import *\n",
    "\n",
    "# Import Qiskit libraries for VQE\n",
    "from qiskit.algorithms.optimizers import SLSQP, SPSA, COBYLA\n",
    "\n",
    "# Import Qiskit Nature libraries\n",
    "from qiskit_nature.algorithms import GroundStateEigensolver, VQEUCCFactory\n",
    "from qiskit_nature.algorithms.ground_state_solvers.minimum_eigensolver_factories import NumPyMinimumEigensolverFactory\n",
    "from qiskit_nature.circuit.library import UCC, UCCSD\n",
    "from qiskit_nature.drivers import Molecule\n",
    "from qiskit_nature.drivers.second_quantization import ElectronicStructureDriverType, ElectronicStructureMoleculeDriver\n",
    "from qiskit_nature.converters.second_quantization import QubitConverter\n",
    "from qiskit_nature.mappers.second_quantization import BravyiKitaevMapper, JordanWignerMapper, ParityMapper\n",
    "from qiskit_nature.problems.second_quantization.electronic import ElectronicStructureProblem\n",
    "from qiskit_nature.transformers.second_quantization.electronic import ActiveSpaceTransformer\n",
    "\n",
    "from qiskit_nature.second_q.drivers import PySCFDriver\n",
    "from qiskit_nature.second_q.formats.molecule_info import MoleculeInfo\n",
    "from qiskit_nature.second_q.transformers import FreezeCoreTransformer\n",
    "\n",
    "\n",
    "from qiskit.primitives import Estimator\n",
    "from qiskit.circuit.library import EvolvedOperatorAnsatz\n",
    "from qiskit_nature.second_q.circuit.library import UCCSD, HartreeFock\n"
   ]
  },
  {
   "cell_type": "code",
   "execution_count": 3,
   "id": "ad7fc7ed-e687-44ed-ad23-c7946f2d604d",
   "metadata": {
    "tags": []
   },
   "outputs": [],
   "source": [
    "# define ansatz , optimizer, estimator\n",
    "from qiskit.primitives import Estimator, BackendEstimator\n",
    "#from qiskit.algorithms.minimum_eigensolvers import VQE\n",
    "from qiskit.algorithms import VQE\n",
    "from qiskit_nature.units import DistanceUnit"
   ]
  },
  {
   "cell_type": "code",
   "execution_count": 4,
   "id": "ff34b86e-d531-4fa1-9a62-323bea81f3a2",
   "metadata": {
    "tags": []
   },
   "outputs": [],
   "source": [
    "hydrogen_t = [[\"H\", [0.0, 0.0, 0.0]], [\"H\", [0.0, 0.0, 0.735]]]\n",
    "                  \n",
    "h3p = Molecule( \n",
    "    geometry= hydrogen_t,\n",
    "   charge=0, multiplicity=1, \n",
    ")\n",
    "\n",
    "driver = ElectronicStructureMoleculeDriver(h3p, basis=\"sto3g\", driver_type=ElectronicStructureDriverType.PYSCF) \n",
    "\n",
    "problem = driver.run()"
   ]
  },
  {
   "cell_type": "code",
   "execution_count": 13,
   "id": "8fdd374f-57e0-4077-a563-4c33fdaa6636",
   "metadata": {
    "tags": []
   },
   "outputs": [],
   "source": [
    "# Check the occupation of the spin orbitals\n",
    "PN_property = problem.get_property(\"ParticleNumber\")\n",
    "\n",
    "# Define the active space around the Fermi level \n",
    "transformer = ActiveSpaceTransformer(\n",
    "    num_electrons=2, # Number of electrons in our active space\n",
    "    num_molecular_orbitals=2, # Number of orbitals in our active space\n",
    ")\n",
    "\n",
    "# Now you can get the reduced electronic structure problem\n",
    "problem_reduced = ElectronicStructureProblem(driver, transformers=[transformer]) \n",
    "\n",
    "# The second quantized Hamiltonian of the reduce problem\n",
    "second_q_ops_reduced = problem_reduced.second_q_ops()"
   ]
  },
  {
   "cell_type": "code",
   "execution_count": 14,
   "id": "d183e11e-e70c-4c21-8369-d773bc56d7bb",
   "metadata": {
    "tags": []
   },
   "outputs": [
    {
     "name": "stdout",
     "output_type": "stream",
     "text": [
      "number of alpha electrons:  1\n",
      "number of beta electrons:  1\n",
      "number of spin orbitals:  4\n",
      "nuclear repulsion energy:  0.7199689944489797\n"
     ]
    }
   ],
   "source": [
    "num_alpha_electrons = problem.get_property('ParticleNumber').num_alpha\n",
    "num_beta_electrons = problem.get_property('ParticleNumber').num_beta\n",
    "num_spin_orbitals = int(problem.get_property('ParticleNumber').num_spin_orbitals)\n",
    "\n",
    "nuclear_rep_energy = problem.get_property('ElectronicEnergy').nuclear_repulsion_energy\n",
    "print(\"number of alpha electrons: \" , num_alpha_electrons)\n",
    "print(\"number of beta electrons: \" , num_beta_electrons)\n",
    "print(\"number of spin orbitals: \" , num_spin_orbitals)\n",
    "print(\"nuclear repulsion energy: \" , nuclear_rep_energy)"
   ]
  },
  {
   "cell_type": "code",
   "execution_count": 15,
   "id": "0f156ac9-5ff6-4863-9677-1cd4634182ba",
   "metadata": {
    "tags": []
   },
   "outputs": [
    {
     "name": "stdout",
     "output_type": "stream",
     "text": [
      "-0.8105479805373279 * IIII\n",
      "+ 0.1721839326191554 * IIIZ\n",
      "- 0.22575349222402372 * IIZZ\n",
      "+ 0.17218393261915543 * IZZI\n",
      "- 0.2257534922240237 * ZZII\n",
      "+ 0.12091263261776627 * IIZI\n",
      "+ 0.16892753870087907 * IZZZ\n",
      "+ 0.045232799946057826 * ZXIX\n",
      "- 0.045232799946057826 * IXZX\n",
      "- 0.045232799946057826 * ZXZX\n",
      "+ 0.045232799946057826 * IXIX\n",
      "+ 0.1661454325638241 * ZZIZ\n",
      "+ 0.1661454325638241 * IZIZ\n",
      "+ 0.17464343068300453 * ZZZZ\n",
      "+ 0.12091263261776627 * ZIZI\n"
     ]
    }
   ],
   "source": [
    "# Setup the mapper and qubit converter\n",
    "mapper_type = 'ParityMapper'\n",
    "\n",
    "if mapper_type == 'ParityMapper':\n",
    "    mapper = ParityMapper()\n",
    "elif mapper_type == 'JordanWignerMapper':\n",
    "    mapper = JordanWignerMapper()\n",
    "elif mapper_type == 'BravyiKitaevMapper':\n",
    "    mapper = BravyiKitaevMapper()\n",
    "\n",
    "\n",
    "converter = QubitConverter(mapper)\n",
    "\n",
    "qubit_op = converter.convert(second_q_ops_reduced[\"ElectronicEnergy\"])\n",
    "print(qubit_op)"
   ]
  },
  {
   "cell_type": "code",
   "execution_count": 16,
   "id": "2987b810-d047-4d7b-9524-72060cacc556",
   "metadata": {
    "tags": []
   },
   "outputs": [
    {
     "name": "stdout",
     "output_type": "stream",
     "text": [
      "-1.05237324577286 * II\n",
      "+ 0.39793742484317896 * IZ\n",
      "- 0.39793742484317896 * ZI\n",
      "- 0.01128010425623538 * ZZ\n",
      "+ 0.18093119978423122 * XX\n"
     ]
    }
   ],
   "source": [
    "# Set the mapper to qubits\n",
    "parity_mapper = ParityMapper() # This is the example of parity mapping\n",
    "\n",
    "# Set the qubit converter with two qubit reduction to reduce the computational cost \n",
    "parity_converter = QubitConverter(parity_mapper, two_qubit_reduction=True)    \n",
    "\n",
    "# Compute the Hamitonian in qubit form\n",
    "qubit_op_parity = parity_converter.convert(second_q_ops_reduced.get('ElectronicEnergy'), num_particles=problem_reduced.num_particles)\n",
    "\n",
    "print(qubit_op_parity)"
   ]
  },
  {
   "cell_type": "code",
   "execution_count": 17,
   "id": "9a400434-41d2-444e-a544-31a5d66e9e88",
   "metadata": {
    "tags": []
   },
   "outputs": [
    {
     "name": "stdout",
     "output_type": "stream",
     "text": [
      "Reference energy :  (-1.137306035695619+0j)\n"
     ]
    }
   ],
   "source": [
    "vqe_factory = VQEUCCFactory( # This is an example of UCC\"SD\" ansatz\n",
    "    quantum_instance=Aer.get_backend(\"aer_simulator_statevector\"),\n",
    "    optimizer=SLSQP(),\n",
    "    ansatz=UCC(excitations='sd')\n",
    ") \n",
    "\n",
    "from qiskit.algorithms import NumPyMinimumEigensolver\n",
    "\n",
    "numpy_solver = NumPyMinimumEigensolver()\n",
    "\n",
    "solver = GroundStateEigensolver(parity_converter, vqe_factory)  \n",
    "real_solution_t = solver.solve(problem_reduced).total_energies[0]    \n",
    "print('Reference energy : ', real_solution_t)"
   ]
  },
  {
   "cell_type": "code",
   "execution_count": 18,
   "id": "5a5b54a9-f893-44c8-bb10-8e7a7317633b",
   "metadata": {
    "tags": []
   },
   "outputs": [],
   "source": [
    "# Define our 'ansatz' for the problem\n",
    "ansatz = UCC(\n",
    "    qubit_converter=parity_converter,\n",
    "    num_particles=problem_reduced.num_particles, \n",
    "    num_spin_orbitals=problem_reduced.num_spin_orbitals,\n",
    "    excitations='sd'\n",
    ")"
   ]
  },
  {
   "cell_type": "code",
   "execution_count": 19,
   "id": "b2131483-ab5d-448e-9dd7-2c0fdbfc7bcd",
   "metadata": {
    "tags": []
   },
   "outputs": [],
   "source": [
    "from qiskit.primitives import Estimator, BackendEstimator"
   ]
  },
  {
   "cell_type": "code",
   "execution_count": 22,
   "id": "4a6bef42-67e3-4cf2-b8ab-c279e24be5a3",
   "metadata": {
    "tags": []
   },
   "outputs": [
    {
     "name": "stdout",
     "output_type": "stream",
     "text": [
      "CPU times: user 124 µs, sys: 0 ns, total: 124 µs\n",
      "Wall time: 143 µs\n"
     ]
    }
   ],
   "source": [
    "%%time\n",
    "from qiskit.utils import algorithm_globals\n",
    "algorithm_globals.random_seed = 1024\n",
    "\n",
    "# Define convergence list\n",
    "convergence = []\n",
    "\n",
    "# Keep track of jobs \n",
    "job_list = []\n",
    "\n",
    "# Initialize estimator object\n",
    "estimator =Estimator() \n",
    "\n",
    "# Define evaluate_expectation function\n",
    "def evaluate_expectation(x):\n",
    "    x = list(x)\n",
    "    \n",
    "    # Define estimator run parameters\n",
    "    job = estimator.run(circuits=ansatz,observables=qubit_op_parity, parameter_values=[x]).result()\n",
    "    results = job.values[0]\n",
    "    job_list.append(job)\n",
    "    \n",
    "    # Pass results back to callback function\n",
    "    return np.real(results)\n",
    "\n",
    "# Call back function\n",
    "def callback(x,fx,ax,tx,nx):\n",
    "    # Callback function to get a view on internal states and statistics of the optimizer for visualization\n",
    "    convergence.append(evaluate_expectation(fx))\n",
    "\n"
   ]
  },
  {
   "cell_type": "code",
   "execution_count": 23,
   "id": "9e462536-7b9d-4750-9c4f-3b7c037c63b1",
   "metadata": {
    "tags": []
   },
   "outputs": [],
   "source": [
    "np.random.seed(10)\n",
    "\n",
    "# Define initial point. We shall define a random point here based on the number of parameters in our ansatz\n",
    "initial_point = np.random.random(ansatz.num_parameters)\n",
    "\n",
    "#### enter your code below ####\n",
    "# Define optimizer and pass callback function\n",
    "optimizer = SPSA(maxiter=50,callback=callback)\n",
    "\n",
    "# Define minimize function\n",
    "result =optimizer.minimize(evaluate_expectation ,x0=initial_point)"
   ]
  },
  {
   "cell_type": "code",
   "execution_count": 29,
   "id": "7fc8a774-6a1d-4c13-901e-e74046385e72",
   "metadata": {
    "tags": []
   },
   "outputs": [
    {
     "name": "stdout",
     "output_type": "stream",
     "text": [
      "Computed Energy: (-1.1369975436673183+0j)\n"
     ]
    }
   ],
   "source": [
    "from qiskit.algorithms import MinimumEigensolverResult, VQE\n",
    "\n",
    "Energy_H_t = []\n",
    "for i in range(len(convergence)):\n",
    "    sol = MinimumEigensolverResult()\n",
    "    sol.eigenvalue = convergence[i]\n",
    "    sol = problem_reduced.interpret(sol).total_energies[0]\n",
    "    Energy_H_t.append(sol)\n",
    "print(\"Computed Energy:\", Energy_H_t[-1])"
   ]
  },
  {
   "cell_type": "markdown",
   "id": "92bb38f1-9a8a-43c8-9c10-28b8ce6dee71",
   "metadata": {},
   "source": [
    "## VQE for Bond_Distances"
   ]
  },
  {
   "cell_type": "code",
   "execution_count": 65,
   "id": "454fd1a9-4bad-44ae-b944-55d8032372ef",
   "metadata": {
    "tags": []
   },
   "outputs": [],
   "source": [
    "def get_qubit_op(dist):\n",
    "    # Define Molecule\n",
    "    molecule = Molecule(\n",
    "        # Coordinates in Angstrom\n",
    "        geometry=[\n",
    "            [\"H\", [0.0, 0.0, dist]],\n",
    "            [\"H\", [0.0, 0.0, 0.0]]\n",
    "        ],\n",
    "        multiplicity=1,  \n",
    "        charge=0,\n",
    "    )\n",
    "    \n",
    "    driver = ElectronicStructureMoleculeDriver(molecule, basis=\"sto3g\", driver_type=ElectronicStructureDriverType.PYSCF) \n",
    "\n",
    "    # Run the preliminary quantum chemistry calculation\n",
    "    properties = driver.run()\n",
    "\n",
    "    # Set the active space\n",
    "    active_space_trafo = ActiveSpaceTransformer(num_electrons=2,\n",
    "                                        num_molecular_orbitals=2) \n",
    "\n",
    "    # Now you can get the reduced electronic structure problem\n",
    "    problem_reduced = ElectronicStructureProblem(driver, transformers=[transformer]) \n",
    "\n",
    "    # The second quantized Hamiltonian of the reduce problem\n",
    "    second_q_ops_reduced = problem_reduced.second_q_ops()\n",
    "\n",
    "    # Set the mapper to qubits\n",
    "    parity_mapper = ParityMapper() # This is the example of parity mapping\n",
    "\n",
    "    # Set the qubit converter with two qubit reduction to reduce the computational cost \n",
    "    parity_converter = QubitConverter(parity_mapper, two_qubit_reduction=True)    \n",
    "\n",
    "    # Compute the Hamitonian in qubit form\n",
    "    qubit_op_parity = parity_converter.convert(second_q_ops_reduced.get('ElectronicEnergy'), num_particles=problem_reduced.num_particles)\n",
    "   \n",
    "    # Get reference solution\n",
    "    vqe_factory = VQEUCCFactory(quantum_instance=StatevectorSimulator(),optimizer=SLSQP(),ansatz=UCC(excitations='sd')) \n",
    "    solver = GroundStateEigensolver(parity_converter, vqe_factory)    \n",
    "    real_solution = solver.solve(problem_reduced).total_energies[0]    \n",
    "    \n",
    "    ansatz=vqe_factory.ansatz\n",
    "    \n",
    "    return ansatz, qubit_op_parity, real_solution, problem_reduced\n",
    "    "
   ]
  },
  {
   "cell_type": "code",
   "execution_count": 66,
   "id": "62e06f94-17d7-46d9-b37d-bcbc3fb366af",
   "metadata": {
    "tags": []
   },
   "outputs": [],
   "source": [
    "def custom_vqe(estimator, ansatz, ops, problem_reduced):\n",
    "\n",
    "    # Define convergence list\n",
    "    convergence = []\n",
    "\n",
    "    # Keep track of jobs (Do-not-modify)\n",
    "    job_list = []\n",
    "\n",
    "    # Define evaluate_expectation function\n",
    "    # Define convergence list\n",
    "    convergence = []\n",
    "\n",
    "    # Keep track of jobs \n",
    "    job_list = []\n",
    "\n",
    "    # Initialize estimator object\n",
    "    estimator =Estimator() \n",
    "\n",
    "    # Define evaluate_expectation function\n",
    "    def evaluate_expectation(x):\n",
    "        x = list(x)\n",
    "\n",
    "        # Define estimator run parameters\n",
    "        job = estimator.run(circuits=ansatz,observables=qubit_op_parity, parameter_values=[x]).result()\n",
    "        results = job.values[0]\n",
    "        job_list.append(job)\n",
    "    \n",
    "    # Pass results back to callback function\n",
    "        return np.real(results)\n",
    "\n",
    "    # Call back function\n",
    "    def callback(x,fx,ax,tx,nx):\n",
    "        # Callback function to get a view on internal states and statistics of the optimizer for visualization\n",
    "        convergence.append(evaluate_expectation(fx))\n",
    "\n",
    "    \n",
    "\n",
    "    # Define initial point. We shall define a random point here based on the number of parameters in our ansatz\n",
    "    np.random.seed(10)\n",
    "\n",
    "    # Define initial point. We shall define a random point here based on the number of parameters in our ansatz\n",
    "    initial_point = np.random.random(ansatz.num_parameters)\n",
    "\n",
    "    #### enter your code below ####\n",
    "    # Define optimizer and pass callback function\n",
    "    optimizer = SPSA(maxiter=50,callback=callback)\n",
    "\n",
    "    # Define minimize function\n",
    "    result =optimizer.minimize(evaluate_expectation ,x0=initial_point)\n",
    "    \n",
    "    vqe_interpret = []\n",
    "    for i in range(len(convergence)):\n",
    "        sol = MinimumEigensolverResult()\n",
    "        sol.eigenvalue = convergence[i]\n",
    "        sol = problem_reduced.interpret(sol).total_energies[0]\n",
    "        vqe_interpret.append(sol)\n",
    "\n",
    "    return vqe_interpret"
   ]
  },
  {
   "cell_type": "code",
   "execution_count": 67,
   "id": "5adcff54-e72d-4d1f-a0de-67f060ad1074",
   "metadata": {
    "tags": []
   },
   "outputs": [
    {
     "name": "stdout",
     "output_type": "stream",
     "text": [
      "[(-0.6088254197798731+0j), (-0.4717065830143232+0j), (-0.47170788383334994+0j), (-0.4717091342498979+0j), (-0.6282723815242559+0j), (-0.6419480314986352+0j), (-0.8131533595957696+0j), (-0.8363754187377992+0j), (-0.9042125302401776+0j), (-0.9042532460315416+0j), (-0.9242502372118455+0j), (-0.9248373071957927+0j), (-0.924858801958099+0j), (-0.9305841544630646+0j), (-0.9316601217473022+0j), (-0.931694747977658+0j), (-0.9324683573203871+0j), (-0.9335106864962512+0j), (-0.9335107902108877+0j), (-0.9334868249387334+0j), (-0.9334639925957844+0j), (-0.9334453878026923+0j), (-0.9334479713127859+0j), (-0.9334411862796888+0j), (-0.9334435540325876+0j), (-0.933441567972831+0j), (-0.9334411790736368+0j), (-0.9335406568880293+0j), (-0.9335303842777456+0j), (-0.9335169741450917+0j), (-0.9335100314169023+0j), (-0.9335307620767015+0j), (-0.9335185288870056+0j), (-0.9335364688904726+0j), (-0.9335241042299838+0j), (-0.9335141174760846+0j), (-0.9335435326105104+0j), (-0.9335439727130213+0j), (-0.9335327307215115+0j), (-0.9335331869840975+0j), (-0.9335351087553327+0j), (-0.9335354306619545+0j), (-0.9335257710103324+0j), (-0.9335236000607046+0j), (-0.9335212032400693+0j), (-0.933512660259971+0j), (-0.9335129200506207+0j), (-0.9335107655755852+0j), (-0.933504594610213+0j), (-0.9335048332176343+0j)]\n"
     ]
    }
   ],
   "source": [
    "distances = np.arange(0.5, 3.0, 0.2)\n",
    "\n",
    "for dist in distances:\n",
    "\n",
    "    ansatz, qubit_op_parity, real_solution, problem_reduced= get_qubit_op(dist)\n",
    "\n",
    "    # Estimator VQE for H2\n",
    "    Energy_H = custom_vqe(estimator=Estimator(), ansatz=ansatz, ops= qubit_op_parity, problem_reduced=problem_reduced)\n",
    "\n",
    "print(Energy_H)"
   ]
  },
  {
   "cell_type": "code",
   "execution_count": null,
   "id": "4454d34f-6c7f-464c-83f8-1186da4039e1",
   "metadata": {},
   "outputs": [],
   "source": []
  }
 ],
 "metadata": {
  "kernelspec": {
   "display_name": "Python 3 (ipykernel)",
   "language": "python",
   "name": "python3"
  },
  "language_info": {
   "codemirror_mode": {
    "name": "ipython",
    "version": 3
   },
   "file_extension": ".py",
   "mimetype": "text/x-python",
   "name": "python",
   "nbconvert_exporter": "python",
   "pygments_lexer": "ipython3",
   "version": "3.10.8"
  },
  "widgets": {
   "application/vnd.jupyter.widget-state+json": {
    "state": {
     "051caea13ccf40fe8b5f4331c2c32b97": {
      "model_module": "@jupyter-widgets/base",
      "model_module_version": "2.0.0",
      "model_name": "LayoutModel",
      "state": {}
     },
     "0698f2e6d80149b88f0052c4ef8801f4": {
      "model_module": "@jupyter-widgets/controls",
      "model_module_version": "2.0.0",
      "model_name": "HTMLStyleModel",
      "state": {
       "description_width": "",
       "font_size": null,
       "text_color": null
      }
     },
     "092d66a0a19b48868fa379e51b99631a": {
      "model_module": "@jupyter-widgets/controls",
      "model_module_version": "2.0.0",
      "model_name": "HTMLModel",
      "state": {
       "layout": "IPY_MODEL_fd188f793d244adf9e133acff8d3f765",
       "style": "IPY_MODEL_0a155899fc814934af9e1d7bc80623f5",
       "value": "<h5>Job ID</h5>"
      }
     },
     "0a155899fc814934af9e1d7bc80623f5": {
      "model_module": "@jupyter-widgets/controls",
      "model_module_version": "2.0.0",
      "model_name": "HTMLStyleModel",
      "state": {
       "description_width": "",
       "font_size": null,
       "text_color": null
      }
     },
     "0a6745d5eca14e0889e2eb781b78c848": {
      "model_module": "@jupyter-widgets/base",
      "model_module_version": "2.0.0",
      "model_name": "LayoutModel",
      "state": {
       "grid_area": "right",
       "padding": "0px 0px 0px 0px",
       "width": "70px"
      }
     },
     "1013e6bf295e43709e92d8a28d888088": {
      "model_module": "@jupyter-widgets/base",
      "model_module_version": "2.0.0",
      "model_name": "LayoutModel",
      "state": {
       "width": "95px"
      }
     },
     "283960d127ea44f49ce541be289f8a6a": {
      "model_module": "@jupyter-widgets/controls",
      "model_module_version": "2.0.0",
      "model_name": "HTMLModel",
      "state": {
       "layout": "IPY_MODEL_3142b4066bf34783b0004b710302c611",
       "style": "IPY_MODEL_e82c2475b1d84e5597907f61403c6c4d",
       "value": "<p style='font-family: IBM Plex Sans, Arial, Helvetica, sans-serif; font-size: 20px; font-weight: medium;'>Circuit Properties</p>"
      }
     },
     "2857377998c44c128ac0568df4d12ed4": {
      "model_module": "@jupyter-widgets/base",
      "model_module_version": "2.0.0",
      "model_name": "LayoutModel",
      "state": {
       "width": "70px"
      }
     },
     "3142b4066bf34783b0004b710302c611": {
      "model_module": "@jupyter-widgets/base",
      "model_module_version": "2.0.0",
      "model_name": "LayoutModel",
      "state": {
       "margin": "0px 0px 10px 0px"
      }
     },
     "34a35e37081e490eac6354d2726ce7ca": {
      "model_module": "@jupyter-widgets/controls",
      "model_module_version": "2.0.0",
      "model_name": "HTMLModel",
      "state": {
       "layout": "IPY_MODEL_2857377998c44c128ac0568df4d12ed4",
       "style": "IPY_MODEL_0698f2e6d80149b88f0052c4ef8801f4",
       "value": "<h5>Queue</h5>"
      }
     },
     "58752271057b4a65b8197d21f16c595a": {
      "model_module": "@jupyter-widgets/base",
      "model_module_version": "2.0.0",
      "model_name": "LayoutModel",
      "state": {
       "width": "145px"
      }
     },
     "5f348e702a0c4b3eb708d95aa7568a59": {
      "model_module": "@jupyter-widgets/controls",
      "model_module_version": "2.0.0",
      "model_name": "HTMLStyleModel",
      "state": {
       "description_width": "",
       "font_size": null,
       "text_color": null
      }
     },
     "8a9f0e911f6e4920b444eeb741c7262b": {
      "model_module": "@jupyter-widgets/controls",
      "model_module_version": "2.0.0",
      "model_name": "HTMLStyleModel",
      "state": {
       "description_width": "",
       "font_size": null,
       "text_color": null
      }
     },
     "8da273e69e374b4e973edcca9859d07d": {
      "model_module": "@jupyter-widgets/controls",
      "model_module_version": "2.0.0",
      "model_name": "ButtonModel",
      "state": {
       "button_style": "primary",
       "description": "Clear",
       "layout": "IPY_MODEL_0a6745d5eca14e0889e2eb781b78c848",
       "style": "IPY_MODEL_a65016c5397b43a3802c6197d2fefb83",
       "tooltip": null
      }
     },
     "8f8a4f7b43954f1c8b38a17ef66b86b8": {
      "model_module": "@jupyter-widgets/base",
      "model_module_version": "2.0.0",
      "model_name": "LayoutModel",
      "state": {
       "margin": "0px 0px 0px 37px",
       "width": "600px"
      }
     },
     "98cd082305c647dd888e7f8a552d0a9e": {
      "model_module": "@jupyter-widgets/base",
      "model_module_version": "2.0.0",
      "model_name": "LayoutModel",
      "state": {
       "grid_template_areas": "\n                                       \". . . . right \"\n                                        ",
       "grid_template_columns": "20% 20% 20% 20% 20%",
       "width": "100%"
      }
     },
     "a5cb4d8e9a164d62b271f3a1e743bca6": {
      "model_module": "@jupyter-widgets/controls",
      "model_module_version": "2.0.0",
      "model_name": "HTMLModel",
      "state": {
       "layout": "IPY_MODEL_58752271057b4a65b8197d21f16c595a",
       "style": "IPY_MODEL_5f348e702a0c4b3eb708d95aa7568a59",
       "value": "<h5>Backend</h5>"
      }
     },
     "a65016c5397b43a3802c6197d2fefb83": {
      "model_module": "@jupyter-widgets/controls",
      "model_module_version": "2.0.0",
      "model_name": "ButtonStyleModel",
      "state": {
       "font_family": null,
       "font_size": null,
       "font_style": null,
       "font_variant": null,
       "font_weight": null,
       "text_color": null,
       "text_decoration": null
      }
     },
     "ab2381c68b454678af66eda8a8be55f5": {
      "model_module": "@jupyter-widgets/controls",
      "model_module_version": "2.0.0",
      "model_name": "HTMLModel",
      "state": {
       "layout": "IPY_MODEL_051caea13ccf40fe8b5f4331c2c32b97",
       "style": "IPY_MODEL_b082fe9364df459fb59bd1a469d75d06",
       "value": "<h5>Message</h5>"
      }
     },
     "b082fe9364df459fb59bd1a469d75d06": {
      "model_module": "@jupyter-widgets/controls",
      "model_module_version": "2.0.0",
      "model_name": "HTMLStyleModel",
      "state": {
       "description_width": "",
       "font_size": null,
       "text_color": null
      }
     },
     "cf8fafb27d0c4d23b5a19e273b8244b4": {
      "model_module": "@jupyter-widgets/controls",
      "model_module_version": "2.0.0",
      "model_name": "GridBoxModel",
      "state": {
       "children": [
        "IPY_MODEL_8da273e69e374b4e973edcca9859d07d"
       ],
       "layout": "IPY_MODEL_98cd082305c647dd888e7f8a552d0a9e"
      }
     },
     "e82c2475b1d84e5597907f61403c6c4d": {
      "model_module": "@jupyter-widgets/controls",
      "model_module_version": "2.0.0",
      "model_name": "HTMLStyleModel",
      "state": {
       "description_width": "",
       "font_size": null,
       "text_color": null
      }
     },
     "f19f026f7ea64cf685a47a715cd4294f": {
      "model_module": "@jupyter-widgets/controls",
      "model_module_version": "2.0.0",
      "model_name": "HBoxModel",
      "state": {
       "children": [
        "IPY_MODEL_092d66a0a19b48868fa379e51b99631a",
        "IPY_MODEL_a5cb4d8e9a164d62b271f3a1e743bca6",
        "IPY_MODEL_f85a528af14d4e3e889b540a4ffea294",
        "IPY_MODEL_34a35e37081e490eac6354d2726ce7ca",
        "IPY_MODEL_ab2381c68b454678af66eda8a8be55f5"
       ],
       "layout": "IPY_MODEL_8f8a4f7b43954f1c8b38a17ef66b86b8"
      }
     },
     "f85a528af14d4e3e889b540a4ffea294": {
      "model_module": "@jupyter-widgets/controls",
      "model_module_version": "2.0.0",
      "model_name": "HTMLModel",
      "state": {
       "layout": "IPY_MODEL_1013e6bf295e43709e92d8a28d888088",
       "style": "IPY_MODEL_8a9f0e911f6e4920b444eeb741c7262b",
       "value": "<h5>Status</h5>"
      }
     },
     "fd188f793d244adf9e133acff8d3f765": {
      "model_module": "@jupyter-widgets/base",
      "model_module_version": "2.0.0",
      "model_name": "LayoutModel",
      "state": {
       "width": "190px"
      }
     }
    },
    "version_major": 2,
    "version_minor": 0
   }
  }
 },
 "nbformat": 4,
 "nbformat_minor": 5
}
