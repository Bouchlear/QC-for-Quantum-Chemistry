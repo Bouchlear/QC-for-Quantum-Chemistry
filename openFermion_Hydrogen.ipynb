{
 "cells": [
  {
   "cell_type": "code",
   "execution_count": 1,
   "id": "2f275d8f-b96b-45cf-82c7-577c3b814ede",
   "metadata": {},
   "outputs": [
    {
     "name": "stderr",
     "output_type": "stream",
     "text": [
      "<frozen importlib._bootstrap>:219: RuntimeWarning: scipy._lib.messagestream.MessageStream size changed, may indicate binary incompatibility. Expected 56 from C header, got 64 from PyObject\n"
     ]
    }
   ],
   "source": [
    "\n",
    "try:\n",
    "    import openfermion as of\n",
    "    import openfermionpyscf as ofpyscf\n",
    "except ImportError:\n",
    "    print(\"Installing OpenFermion and OpenFermion-PySCF...\")\n",
    "    !pip install openfermion openfermionpyscf --quiet"
   ]
  },
  {
   "cell_type": "code",
   "execution_count": 29,
   "id": "97109f78-503f-487b-9b67-2859e01bb187",
   "metadata": {},
   "outputs": [],
   "source": [
    "import numpy as np\n",
    "from scipy.sparse import linalg\n",
    "\n",
    "import cirq\n",
    "import openfermion \n",
    "import openfermionpyscf as ofpyscf\n",
    "from openfermion.chem import MolecularData\n",
    "from openfermion.transforms import jordan_wigner\n",
    "from openfermion.linalg import get_ground_state\n",
    "import numpy\n",
    "import scipy\n",
    "import scipy.linalg\n",
    "from openfermion.transforms import get_diagonal_coulomb_hamiltonian\n",
    "from openfermion.circuits import trotter"
   ]
  },
  {
   "cell_type": "code",
   "execution_count": 66,
   "id": "f98f52e8-eb0a-4b40-ab3f-61b34cb901cd",
   "metadata": {},
   "outputs": [
    {
     "name": "stdout",
     "output_type": "stream",
     "text": [
      "0.7199689944489797 [] +\n",
      "-1.2563390730032498 [0^ 0] +\n",
      "0.33785507740175813 [0^ 0^ 0 0] +\n",
      "0.09046559989211567 [0^ 0^ 2 2] +\n",
      "0.33785507740175813 [0^ 1^ 1 0] +\n",
      "0.09046559989211567 [0^ 1^ 3 2] +\n",
      "0.09046559989211567 [0^ 2^ 0 2] +\n",
      "0.3322908651276484 [0^ 2^ 2 0] +\n",
      "0.09046559989211567 [0^ 3^ 1 2] +\n",
      "0.3322908651276484 [0^ 3^ 3 0] +\n",
      "0.33785507740175813 [1^ 0^ 0 1] +\n",
      "0.09046559989211567 [1^ 0^ 2 3] +\n",
      "-1.2563390730032498 [1^ 1] +\n",
      "0.33785507740175813 [1^ 1^ 1 1] +\n",
      "0.09046559989211567 [1^ 1^ 3 3] +\n",
      "0.09046559989211567 [1^ 2^ 0 3] +\n",
      "0.3322908651276484 [1^ 2^ 2 1] +\n",
      "0.09046559989211567 [1^ 3^ 1 3] +\n",
      "0.3322908651276484 [1^ 3^ 3 1] +\n",
      "0.33229086512764827 [2^ 0^ 0 2] +\n",
      "0.09046559989211567 [2^ 0^ 2 0] +\n",
      "0.33229086512764827 [2^ 1^ 1 2] +\n",
      "0.09046559989211567 [2^ 1^ 3 0] +\n",
      "-0.47189600728114245 [2^ 2] +\n",
      "0.09046559989211567 [2^ 2^ 0 0] +\n",
      "0.3492868613660091 [2^ 2^ 2 2] +\n",
      "0.09046559989211567 [2^ 3^ 1 0] +\n",
      "0.3492868613660091 [2^ 3^ 3 2] +\n",
      "0.33229086512764827 [3^ 0^ 0 3] +\n",
      "0.09046559989211567 [3^ 0^ 2 1] +\n",
      "0.33229086512764827 [3^ 1^ 1 3] +\n",
      "0.09046559989211567 [3^ 1^ 3 1] +\n",
      "0.09046559989211567 [3^ 2^ 0 1] +\n",
      "0.3492868613660091 [3^ 2^ 2 3] +\n",
      "-0.47189600728114245 [3^ 3] +\n",
      "0.09046559989211567 [3^ 3^ 1 1] +\n",
      "0.3492868613660091 [3^ 3^ 3 3]\n"
     ]
    }
   ],
   "source": [
    "# define the geometry of H modelcule.\n",
    "bond_dist= 0.735\n",
    "geometry = [(\"H\", (0.0, 0.0, 0.0)), (\"H\", (0.0, 0.0, bond_dist))]\n",
    "basis = \"sto-3g\"\n",
    "multiplicity = 1\n",
    "charge = 0\n",
    "\n",
    "# obtain Hamiltonian as an InteractionOperator\n",
    "hamiltonian = ofpyscf.generate_molecular_hamiltonian(\n",
    "    geometry, basis, multiplicity, charge\n",
    ")\n",
    "\n",
    "# Convert to a FermionOperator\n",
    "fermion_hamiltonian= of.get_fermion_operator(hamiltonian)\n",
    "\n",
    "print(fermion_hamiltonian)"
   ]
  },
  {
   "cell_type": "code",
   "execution_count": 68,
   "id": "617d70b7-1774-4c7f-9aa8-17b173f6cde1",
   "metadata": {},
   "outputs": [
    {
     "name": "stdout",
     "output_type": "stream",
     "text": [
      "Ground_energy using Jorden Wigner Transform: -1.13731\n",
      "Ground_energy using Bravyi Kitaev Transform: -1.13731\n"
     ]
    }
   ],
   "source": [
    "# Map to QubitOperator using the JWT\n",
    "hamiltonian_jw = of.jordan_wigner(fermion_hamiltonian)\n",
    "\n",
    "# Convert to Scipy sparse matrix\n",
    "hamiltonian_jw_sparse = of.get_sparse_operator(hamiltonian_jw)\n",
    "\n",
    "# Compute ground energy\n",
    "eigs, _ = linalg.eigsh(hamiltonian_jw_sparse, k=1, which=\"SA\")\n",
    "ground_energy = eigs[0]\n",
    "\n",
    "# Map to QubitOperator using the BK\n",
    "hamiltonian_bk = of.bravyi_kitaev(fermion_hamiltonian)\n",
    "hamiltonian_bk_sparse = of.get_sparse_operator(hamiltonian_bk)\n",
    "eigs, _ = linalg.eigsh(hamiltonian_bk_sparse, k=1, which=\"SA\")\n",
    "ground_energ_bk = eigs[0]\n",
    "\n",
    "print(f\"Ground_energy using Jorden Wigner Transform: {ground_energy:.5f}\")\n",
    "print(f\"Ground_energy using Bravyi Kitaev Transform: {ground_energ_bk:.5f}\")\n"
   ]
  },
  {
   "cell_type": "code",
   "execution_count": 69,
   "id": "2af17bb3-cf2e-4a84-b111-e2c1f62f310e",
   "metadata": {},
   "outputs": [
    {
     "name": "stdout",
     "output_type": "stream",
     "text": [
      "-2.7365011661198047\n"
     ]
    }
   ],
   "source": [
    "# Obtain the Bogoliubov transformation matrix.\n",
    "quadratic_hamiltonian = openfermion.transforms.get_quadratic_hamiltonian(fermion_hamiltonian,\n",
    "                                                                         chemical_potential=0.0,\n",
    "                                                                         ignore_incompatible_terms=True)\n",
    "print(quadratic_hamiltonian.ground_energy())"
   ]
  },
  {
   "cell_type": "code",
   "execution_count": 70,
   "id": "5ea214b0-4306-4786-85e5-3fce898381ca",
   "metadata": {},
   "outputs": [],
   "source": [
    "_, transformation_matrix, _ = quadratic_hamiltonian.diagonalizing_bogoliubov_transform()\n",
    "\n",
    "#prepare mean fied state using bogoliubov_transform\n",
    "occupied_orbitals = range(2)\n",
    "\n",
    "n_qubits = openfermion.count_qubits(quadratic_hamiltonian)\n",
    "qubits = cirq.LineQubit.range(n_qubits)\n",
    "state_preparation_circuit = cirq.Circuit(openfermion.bogoliubov_transform(qubits, \n",
    "                                                                          transformation_matrix, \n",
    "                                                                          initial_state=occupied_orbitals))"
   ]
  },
  {
   "cell_type": "code",
   "execution_count": 98,
   "id": "3c532784-136e-4c8a-9dbd-4ce9c44b7fff",
   "metadata": {},
   "outputs": [],
   "source": [
    "# Hamiltonian simulation with Trotter formulas\n",
    "import openfermion as of\n",
    "n_steps = 10\n",
    "order = 0\n",
    "time= 3\n",
    "# Construct circuit\n",
    "\n",
    "# Initialize qubits\n",
    "qubits = cirq.LineQubit.range(n_qubits)\n",
    "\n",
    "# Create circuit\n",
    "trotter_circuit = cirq.Circuit(\n",
    "    of.simulate_trotter(\n",
    "        qubits, hamiltonian, time, n_steps=10, order=0, algorithm=of.LOW_RANK\n",
    "    )\n",
    ")                                                           "
   ]
  },
  {
   "cell_type": "code",
   "execution_count": 102,
   "id": "d29d4b0e-3754-4859-81c2-491c0a0df790",
   "metadata": {},
   "outputs": [
    {
     "name": "stdout",
     "output_type": "stream",
     "text": [
      "Energy of hydrogen state obtained : -1.12517\n",
      "CPU times: user 112 ms, sys: 3.39 ms, total: 115 ms\n",
      "Wall time: 118 ms\n"
     ]
    }
   ],
   "source": [
    "%%time\n",
    "simulator = cirq.Simulator()\n",
    "\n",
    "# Obtain initial state vector as integer.\n",
    "initial_state = sum(2 ** (n_qubits - 1 - i) for i in occupied_orbitals)\n",
    "\n",
    "# Construct and simulate circuit \n",
    "total_circuit= state_preparation_circuit + trotter_circuit\n",
    "\n",
    "result = simulator.simulate(total_circuit, initial_state=initial_state)\n",
    "final_state = result.final_state_vector\n",
    "\n",
    "print(f\"Energy of hydrogen state obtained : {openfermion.expectation(hamiltonian_jw_sparse, final_state).real:.5f}\")"
   ]
  },
  {
   "cell_type": "code",
   "execution_count": 121,
   "id": "c3a3bf75-72c4-4537-8f2c-c7fc656e7d18",
   "metadata": {},
   "outputs": [
    {
     "name": "stdout",
     "output_type": "stream",
     "text": [
      "Energy of hydrogen state obtained : -1.13525\n",
      "Energy of hydrogen state obtained : -1.12099\n",
      "Energy of hydrogen state obtained : -1.11279\n",
      "Energy of hydrogen state obtained : -1.11964\n",
      "Energy of hydrogen state obtained : -1.12604\n",
      "Energy of hydrogen state obtained : -1.11754\n",
      "Energy of hydrogen state obtained : -1.09006\n",
      "Energy of hydrogen state obtained : -1.04589\n",
      "Energy of hydrogen state obtained : -0.98935\n",
      "Energy of hydrogen state obtained : -0.92488\n",
      "Energy of hydrogen state obtained : -0.85647\n",
      "Energy of hydrogen state obtained : -0.78734\n",
      "Energy of hydrogen state obtained : -0.71985\n",
      "Energy of hydrogen state obtained : -0.65556\n",
      "Energy of hydrogen state obtained : -0.59537\n",
      "Energy of hydrogen state obtained : -0.53972\n",
      "Energy of hydrogen state obtained : -0.48872\n",
      "Energy of hydrogen state obtained : -0.44225\n",
      "Energy of hydrogen state obtained : -0.40008\n",
      "Energy of hydrogen state obtained : -0.36189\n",
      "Energy of hydrogen state obtained : -0.32735\n",
      "Energy of hydrogen state obtained : -0.29609\n",
      "Energy of hydrogen state obtained : -0.26780\n",
      "Energy of hydrogen state obtained : -0.24215\n",
      "Energy of hydrogen state obtained : -0.21888\n",
      "Energy of hydrogen state obtained : -0.19772\n",
      "Energy of hydrogen state obtained : -0.17845\n"
     ]
    }
   ],
   "source": [
    "Ener=[]\n",
    "distances = np.arange(0.3,3.0, 0.1)\n",
    "\n",
    "for d in distances:\n",
    "    geometry = [(\"H\", (0.0, 0.0, 0.0)), (\"H\", (0.0, 0.0, d))]\n",
    "    basis = \"sto-3g\"\n",
    "    multiplicity = 1\n",
    "    charge = 0\n",
    "    hamiltonian = ofpyscf.generate_molecular_hamiltonian(geometry, basis, multiplicity, charge)\n",
    "    fermion_hamiltonian= of.get_fermion_operator(hamiltonian)\n",
    "    quadratic_hamiltonian = openfermion.transforms.get_quadratic_hamiltonian(fermion_hamiltonian,chemical_potential=0.0,\n",
    "                                                                             ignore_incompatible_terms=True)\n",
    "    \n",
    "    _,transformation_matrix,_= quadratic_hamiltonian.diagonalizing_bogoliubov_transform()\n",
    "\n",
    "    occupied_orbitals = range(2)\n",
    "    n_qubits = openfermion.count_qubits(quadratic_hamiltonian)\n",
    "    qubits = cirq.LineQubit.range(n_qubits)\n",
    "    state_preparation_circuit = cirq.Circuit(openfermion.bogoliubov_transform(qubits,transformation_matrix,\n",
    "                                                                              initial_state=occupied_orbitals))\n",
    "    n_steps = 10\n",
    "    order = 0\n",
    "    time= 3\n",
    "    qubits = cirq.LineQubit.range(n_qubits)\n",
    "    trotter_circuit = cirq.Circuit(of.simulate_trotter(qubits, hamiltonian,time, n_steps=10, order=0, algorithm=of.LOW_RANK))\n",
    "    \n",
    "    simulator = cirq.Simulator()\n",
    "    initial_state = sum(2 ** (n_qubits - 1 - i) for i in occupied_orbitals)\n",
    "    total_circuit= state_preparation_circuit + trotter_circuit\n",
    "\n",
    "    result = simulator.simulate(total_circuit, initial_state=initial_state)\n",
    "    final_state = result.final_state_vector\n",
    "    Estimated_energy= openfermion.expectation(hamiltonian_jw_sparse, final_state).real\n",
    "\n",
    "    print(f\"Energy of hydrogen state obtained : {Estimated_energy:.5f}\")\n",
    "    Ener.append(Estimated_energy)\n",
    "    "
   ]
  },
  {
   "cell_type": "code",
   "execution_count": 122,
   "id": "b374fb45-56ec-4abe-8f5d-e92f7c87ab79",
   "metadata": {},
   "outputs": [
    {
     "name": "stdout",
     "output_type": "stream",
     "text": [
      "[-1.135245450547921, -1.1209913100144555, -1.112791292474081, -1.119639839644817, -1.1260385408838884, -1.1175376401492245, -1.090055647143365, -1.0458877784649014, -0.9893502627386489, -0.9248839932879391, -0.8564746537165491, -0.7873406854241621, -0.7198488024692372, -0.6555560307484908, -0.5953693733966845, -0.5397249172624564, -0.4887228338858225, -0.442254267420193, -0.4000838554949813, -0.3618947490077158, -0.3273477068134964, -0.2960891460793355, -0.26779746832961404, -0.24215276932188434, -0.21887926905035204, -0.1977231369687298, -0.17845286486665185]\n"
     ]
    }
   ],
   "source": [
    "print(Ener)"
   ]
  },
  {
   "cell_type": "code",
   "execution_count": 123,
   "id": "d3405a49-3f65-4cb0-b13b-8ea2608f7c39",
   "metadata": {},
   "outputs": [
    {
     "data": {
      "image/png": "[encoded data removed]",
      "text/plain": [
       "<Figure size 864x432 with 1 Axes>"
      ]
     },
     "metadata": {},
     "output_type": "display_data"
    }
   ],
   "source": [
    "import matplotlib.pyplot as plt\n",
    "%matplotlib inline\n",
    "\n",
    "plt.figure(figsize = [12,6], facecolor='white')\n",
    "plt.plot(distances, Ener,linewidth=2)\n",
    "plt.title('Energy estimated using OpenFermion', fontsize = 16)\n",
    "plt.xlabel(fr'Bond_Distance', fontsize = 14)\n",
    "plt.ylabel(fr'Energy_H2', fontsize = 14)\n",
    "plt.show()"
   ]
  },
  {
   "cell_type": "code",
   "execution_count": null,
   "id": "2fb99ab4-792f-45b2-83c7-9f01b6da86ca",
   "metadata": {},
   "outputs": [],
   "source": []
  }
 ],
 "metadata": {
  "kernelspec": {
   "display_name": "Python 3 (ipykernel)",
   "language": "python",
   "name": "python3"
  },
  "language_info": {
   "codemirror_mode": {
    "name": "ipython",
    "version": 3
   },
   "file_extension": ".py",
   "mimetype": "text/x-python",
   "name": "python",
   "nbconvert_exporter": "python",
   "pygments_lexer": "ipython3",
   "version": "3.8.12"
  },
  "widgets": {
   "application/vnd.jupyter.widget-state+json": {
    "state": {},
    "version_major": 2,
    "version_minor": 0
   }
  }
 },
 "nbformat": 4,
 "nbformat_minor": 5
}
