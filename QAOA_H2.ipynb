{
 "cells": [
  {
   "cell_type": "code",
   "execution_count": 2,
   "id": "3aa50fd1-2493-43cf-9913-cc5ba3ba53ad",
   "metadata": {
    "tags": []
   },
   "outputs": [],
   "source": [
    "# Import necessary libraries and packages\n",
    "import math\n",
    "import matplotlib.pyplot as plt\n",
    "import numpy as np\n",
    "\n",
    "import warnings\n",
    "warnings.filterwarnings('ignore')\n",
    "\n",
    "from qiskit import Aer, IBMQ, QuantumCircuit\n",
    "from qiskit.primitives import Estimator\n",
    "from qiskit.providers.aer import StatevectorSimulator\n",
    "from qiskit.utils import QuantumInstance\n",
    "\n",
    "from qiskit.tools.jupyter import *\n",
    "from qiskit.visualization import *\n",
    "\n",
    "# Import Qiskit libraries for VQE\n",
    "from qiskit.algorithms.optimizers import SLSQP, SPSA, COBYLA\n",
    "\n",
    "# Import Qiskit Nature libraries\n",
    "from qiskit_nature.algorithms import GroundStateEigensolver, VQEUCCFactory\n",
    "from qiskit_nature.algorithms.ground_state_solvers.minimum_eigensolver_factories import NumPyMinimumEigensolverFactory\n",
    "from qiskit_nature.circuit.library import UCC, UCCSD\n",
    "from qiskit_nature.drivers import Molecule\n",
    "from qiskit_nature.drivers.second_quantization import ElectronicStructureDriverType, ElectronicStructureMoleculeDriver\n",
    "from qiskit_nature.converters.second_quantization import QubitConverter\n",
    "from qiskit_nature.mappers.second_quantization import BravyiKitaevMapper, JordanWignerMapper, ParityMapper\n",
    "from qiskit_nature.problems.second_quantization.electronic import ElectronicStructureProblem\n",
    "from qiskit_nature.transformers.second_quantization.electronic import ActiveSpaceTransformer\n",
    "\n",
    "from qiskit_nature.second_q.drivers import PySCFDriver\n",
    "from qiskit_nature.second_q.formats.molecule_info import MoleculeInfo\n",
    "from qiskit_nature.second_q.transformers import FreezeCoreTransformer\n",
    "\n",
    "\n",
    "from qiskit.primitives import Estimator\n",
    "from qiskit.circuit.library import EvolvedOperatorAnsatz\n",
    "from qiskit_nature.second_q.circuit.library import UCCSD, HartreeFock\n"
   ]
  },
  {
   "cell_type": "code",
   "execution_count": 3,
   "id": "1e551989-03ab-44fd-a698-664d1cb18cfd",
   "metadata": {
    "tags": []
   },
   "outputs": [],
   "source": [
    "\n",
    "from qiskit.primitives import Estimator, BackendEstimator\n",
    "\n",
    "from qiskit.algorithms import VQE\n",
    "from qiskit_nature.units import DistanceUnit\n",
    "from qiskit.algorithms import QAOA\n",
    "from qiskit.algorithms.optimizers import COBYLA"
   ]
  },
  {
   "cell_type": "code",
   "execution_count": 4,
   "id": "8ccb1d4d-2604-4eea-b1a4-a93ac7f3d66c",
   "metadata": {
    "tags": []
   },
   "outputs": [],
   "source": [
    "bond_distance=0.735\n",
    "molecule = f\"H 0 0 0; H 0 0 {bond_distance}\"\n",
    "driver = PySCFDriver(atom=molecule,charge=0,spin=0,basis='sto3g',unit=DistanceUnit.ANGSTROM,)\n",
    "# run the deriver\n",
    "es_problem = driver.run()"
   ]
  },
  {
   "cell_type": "code",
   "execution_count": 5,
   "id": "3447045e-5ad2-4343-9d09-34d899a60c9b",
   "metadata": {
    "tags": []
   },
   "outputs": [],
   "source": [
    "second_q_ops = es_problem.second_q_ops()\n",
    "num_orbitals = es_problem.num_spin_orbitals\n",
    "num_particles = es_problem.num_particles"
   ]
  },
  {
   "cell_type": "code",
   "execution_count": 7,
   "id": "c6935a1b-857b-4efc-8074-fd5a33bf9c0f",
   "metadata": {
    "tags": []
   },
   "outputs": [
    {
     "name": "stdout",
     "output_type": "stream",
     "text": [
      "-0.8105479805373283 * IIII\n",
      "+ 0.17218393261915543 * IIIZ\n",
      "- 0.2257534922240237 * IIZI\n",
      "+ 0.12091263261776633 * IIZZ\n",
      "+ 0.17218393261915543 * IZII\n",
      "+ 0.16892753870087907 * IZIZ\n",
      "+ 0.045232799946057826 * YYYY\n",
      "+ 0.045232799946057826 * XXYY\n",
      "+ 0.045232799946057826 * YYXX\n",
      "+ 0.045232799946057826 * XXXX\n",
      "- 0.22575349222402363 * ZIII\n",
      "+ 0.1661454325638241 * ZIIZ\n",
      "+ 0.16614543256382408 * IZZI\n",
      "+ 0.1746434306830045 * ZIZI\n",
      "+ 0.12091263261776633 * ZZII\n"
     ]
    }
   ],
   "source": [
    "from qiskit_nature.second_q.mappers import JordanWignerMapper\n",
    "\n",
    "fermionic_op = es_problem.hamiltonian.second_q_op()\n",
    "#choose the mapper \n",
    "mapper = JordanWignerMapper() \n",
    "#mapper = BravyiKitaevMapper() \n",
    "qubit_op = mapper.map(fermionic_op)\n",
    "print(qubit_op)"
   ]
  },
  {
   "cell_type": "code",
   "execution_count": 8,
   "id": "7677cae8-7109-4a5b-9113-71c19010e030",
   "metadata": {
    "tags": []
   },
   "outputs": [],
   "source": [
    "backend = Aer.get_backend('statevector_simulator')\n",
    "qinstance = QuantumInstance(backend, shots=1024, seed_simulator=2, seed_transpiler=2)"
   ]
  },
  {
   "cell_type": "code",
   "execution_count": null,
   "id": "569bcdb9-861e-4808-9d31-363e93c8081e",
   "metadata": {},
   "outputs": [],
   "source": [
    "qaoa = QAOA(optimizer=COBYLA(), quantum_instance=qinstance)\n",
    "result = qaoa.compute_minimum_eigenvalue(qubit_op)"
   ]
  },
  {
   "cell_type": "code",
   "execution_count": 10,
   "id": "586bf58a-36b4-4ac0-9458-37ca2627381d",
   "metadata": {
    "tags": []
   },
   "outputs": [
    {
     "name": "stdout",
     "output_type": "stream",
     "text": [
      "-1.1122711181328957\n"
     ]
    }
   ],
   "source": [
    "print(result.eigenvalue.real)"
   ]
  },
  {
   "cell_type": "code",
   "execution_count": 12,
   "id": "3ccf4587-2a98-41cb-b5ff-fae3f15af169",
   "metadata": {
    "tags": []
   },
   "outputs": [
    {
     "name": "stdout",
     "output_type": "stream",
     "text": [
      "-1.1122711018367493\n"
     ]
    }
   ],
   "source": [
    "qaoa = QAOA(optimizer=COBYLA(maxiter=100), quantum_instance=qinstance)\n",
    "result = qaoa.compute_minimum_eigenvalue(qubit_op)\n",
    "print(result.eigenvalue.real)"
   ]
  },
  {
   "cell_type": "code",
   "execution_count": null,
   "id": "eddfd08b-1370-432d-83bb-eac152383272",
   "metadata": {},
   "outputs": [],
   "source": []
  }
 ],
 "metadata": {
  "kernelspec": {
   "display_name": "Python 3 (ipykernel)",
   "language": "python",
   "name": "python3"
  },
  "language_info": {
   "codemirror_mode": {
    "name": "ipython",
    "version": 3
   },
   "file_extension": ".py",
   "mimetype": "text/x-python",
   "name": "python",
   "nbconvert_exporter": "python",
   "pygments_lexer": "ipython3",
   "version": "3.10.8"
  },
  "widgets": {
   "application/vnd.jupyter.widget-state+json": {
    "state": {
     "068ecf223cab46239dad03a3593d5a96": {
      "model_module": "@jupyter-widgets/controls",
      "model_module_version": "2.0.0",
      "model_name": "HTMLStyleModel",
      "state": {
       "description_width": "",
       "font_size": null,
       "text_color": null
      }
     },
     "0762103378d34ea5aa9304c2751e39f6": {
      "model_module": "@jupyter-widgets/base",
      "model_module_version": "2.0.0",
      "model_name": "LayoutModel",
      "state": {
       "width": "145px"
      }
     },
     "0bf3526bbd704a8a829678b272897e7c": {
      "model_module": "@jupyter-widgets/base",
      "model_module_version": "2.0.0",
      "model_name": "LayoutModel",
      "state": {
       "margin": "0px 0px 10px 0px"
      }
     },
     "0c7c378912284dcb8f4ec057acaf51ee": {
      "model_module": "@jupyter-widgets/base",
      "model_module_version": "2.0.0",
      "model_name": "LayoutModel",
      "state": {
       "grid_area": "right",
       "padding": "0px 0px 0px 0px",
       "width": "70px"
      }
     },
     "0ebbd4fbb48c4786b8e6f68618fd2700": {
      "model_module": "@jupyter-widgets/base",
      "model_module_version": "2.0.0",
      "model_name": "LayoutModel",
      "state": {}
     },
     "1a856e9a5ac240f6bbf30347fd0d8647": {
      "model_module": "@jupyter-widgets/controls",
      "model_module_version": "2.0.0",
      "model_name": "HTMLModel",
      "state": {
       "layout": "IPY_MODEL_0bf3526bbd704a8a829678b272897e7c",
       "style": "IPY_MODEL_d3e9d04d286f490fb37066091db9d219",
       "value": "<p style='font-family: IBM Plex Sans, Arial, Helvetica, sans-serif; font-size: 20px; font-weight: medium;'>Circuit Properties</p>"
      }
     },
     "20d06af9dcbe4bc697c8ff736d534d4f": {
      "model_module": "@jupyter-widgets/controls",
      "model_module_version": "2.0.0",
      "model_name": "ButtonStyleModel",
      "state": {
       "font_family": null,
       "font_size": null,
       "font_style": null,
       "font_variant": null,
       "font_weight": null,
       "text_color": null,
       "text_decoration": null
      }
     },
     "288e6f75471e4c6aa1032441bfe2ba1d": {
      "model_module": "@jupyter-widgets/controls",
      "model_module_version": "2.0.0",
      "model_name": "HTMLModel",
      "state": {
       "layout": "IPY_MODEL_81dee4bf67c545e8bcddc621d5e78406",
       "style": "IPY_MODEL_7cf8c8a2ef844d879d947a7100d04f5b",
       "value": "<h5>Job ID</h5>"
      }
     },
     "2d45d4e2686f41159ad058c971c56498": {
      "model_module": "@jupyter-widgets/controls",
      "model_module_version": "2.0.0",
      "model_name": "ButtonModel",
      "state": {
       "button_style": "primary",
       "description": "Clear",
       "layout": "IPY_MODEL_0c7c378912284dcb8f4ec057acaf51ee",
       "style": "IPY_MODEL_20d06af9dcbe4bc697c8ff736d534d4f",
       "tooltip": null
      }
     },
     "3a6e7599477e4ca49e8b9fe9c25f26f6": {
      "model_module": "@jupyter-widgets/base",
      "model_module_version": "2.0.0",
      "model_name": "LayoutModel",
      "state": {
       "width": "95px"
      }
     },
     "48ccaddbf44b4582901ecf001cdb1bcc": {
      "model_module": "@jupyter-widgets/controls",
      "model_module_version": "2.0.0",
      "model_name": "HTMLStyleModel",
      "state": {
       "description_width": "",
       "font_size": null,
       "text_color": null
      }
     },
     "4cba89247fca4ccba1597366a9a0b84c": {
      "model_module": "@jupyter-widgets/controls",
      "model_module_version": "2.0.0",
      "model_name": "HTMLModel",
      "state": {
       "layout": "IPY_MODEL_0762103378d34ea5aa9304c2751e39f6",
       "style": "IPY_MODEL_068ecf223cab46239dad03a3593d5a96",
       "value": "<h5>Backend</h5>"
      }
     },
     "5814d7792bc14f208050d77fce0af41e": {
      "model_module": "@jupyter-widgets/base",
      "model_module_version": "2.0.0",
      "model_name": "LayoutModel",
      "state": {
       "width": "70px"
      }
     },
     "7cf8c8a2ef844d879d947a7100d04f5b": {
      "model_module": "@jupyter-widgets/controls",
      "model_module_version": "2.0.0",
      "model_name": "HTMLStyleModel",
      "state": {
       "description_width": "",
       "font_size": null,
       "text_color": null
      }
     },
     "81dee4bf67c545e8bcddc621d5e78406": {
      "model_module": "@jupyter-widgets/base",
      "model_module_version": "2.0.0",
      "model_name": "LayoutModel",
      "state": {
       "width": "190px"
      }
     },
     "99294c42b14e48d19d4e56a9cc4413a5": {
      "model_module": "@jupyter-widgets/controls",
      "model_module_version": "2.0.0",
      "model_name": "HTMLStyleModel",
      "state": {
       "description_width": "",
       "font_size": null,
       "text_color": null
      }
     },
     "9e1842be01944eae80ccd4ea32c3faae": {
      "model_module": "@jupyter-widgets/controls",
      "model_module_version": "2.0.0",
      "model_name": "GridBoxModel",
      "state": {
       "children": [
        "IPY_MODEL_2d45d4e2686f41159ad058c971c56498"
       ],
       "layout": "IPY_MODEL_d5f9bef8270742cf8883dcf5702d566b"
      }
     },
     "b26fb0661be649fabbd15f3567cf4491": {
      "model_module": "@jupyter-widgets/base",
      "model_module_version": "2.0.0",
      "model_name": "LayoutModel",
      "state": {
       "margin": "0px 0px 0px 37px",
       "width": "600px"
      }
     },
     "bb82ff8fcf9e49c89c5ceb80cedbcd18": {
      "model_module": "@jupyter-widgets/controls",
      "model_module_version": "2.0.0",
      "model_name": "HTMLModel",
      "state": {
       "layout": "IPY_MODEL_3a6e7599477e4ca49e8b9fe9c25f26f6",
       "style": "IPY_MODEL_cae399651c024401bb44093002c7e32b",
       "value": "<h5>Status</h5>"
      }
     },
     "cae399651c024401bb44093002c7e32b": {
      "model_module": "@jupyter-widgets/controls",
      "model_module_version": "2.0.0",
      "model_name": "HTMLStyleModel",
      "state": {
       "description_width": "",
       "font_size": null,
       "text_color": null
      }
     },
     "d3e9d04d286f490fb37066091db9d219": {
      "model_module": "@jupyter-widgets/controls",
      "model_module_version": "2.0.0",
      "model_name": "HTMLStyleModel",
      "state": {
       "description_width": "",
       "font_size": null,
       "text_color": null
      }
     },
     "d5f9bef8270742cf8883dcf5702d566b": {
      "model_module": "@jupyter-widgets/base",
      "model_module_version": "2.0.0",
      "model_name": "LayoutModel",
      "state": {
       "grid_template_areas": "\n                                       \". . . . right \"\n                                        ",
       "grid_template_columns": "20% 20% 20% 20% 20%",
       "width": "100%"
      }
     },
     "d8f16b41ecec40e8a4f0e91d5410b28b": {
      "model_module": "@jupyter-widgets/controls",
      "model_module_version": "2.0.0",
      "model_name": "HTMLModel",
      "state": {
       "layout": "IPY_MODEL_5814d7792bc14f208050d77fce0af41e",
       "style": "IPY_MODEL_99294c42b14e48d19d4e56a9cc4413a5",
       "value": "<h5>Queue</h5>"
      }
     },
     "e686a14b66084be287235c47ba6a855d": {
      "model_module": "@jupyter-widgets/controls",
      "model_module_version": "2.0.0",
      "model_name": "HBoxModel",
      "state": {
       "children": [
        "IPY_MODEL_288e6f75471e4c6aa1032441bfe2ba1d",
        "IPY_MODEL_4cba89247fca4ccba1597366a9a0b84c",
        "IPY_MODEL_bb82ff8fcf9e49c89c5ceb80cedbcd18",
        "IPY_MODEL_d8f16b41ecec40e8a4f0e91d5410b28b",
        "IPY_MODEL_f8d4b5c94d784a89ab55f972ed594654"
       ],
       "layout": "IPY_MODEL_b26fb0661be649fabbd15f3567cf4491"
      }
     },
     "f8d4b5c94d784a89ab55f972ed594654": {
      "model_module": "@jupyter-widgets/controls",
      "model_module_version": "2.0.0",
      "model_name": "HTMLModel",
      "state": {
       "layout": "IPY_MODEL_0ebbd4fbb48c4786b8e6f68618fd2700",
       "style": "IPY_MODEL_48ccaddbf44b4582901ecf001cdb1bcc",
       "value": "<h5>Message</h5>"
      }
     }
    },
    "version_major": 2,
    "version_minor": 0
   }
  }
 },
 "nbformat": 4,
 "nbformat_minor": 5
}
