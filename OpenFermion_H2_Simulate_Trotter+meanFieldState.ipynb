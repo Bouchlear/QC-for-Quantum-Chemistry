{
 "cells": [
  {
   "cell_type": "code",
   "execution_count": 1,
   "id": "b02f57e2-e3f3-4aeb-b9eb-f45c410eff35",
   "metadata": {},
   "outputs": [
    {
     "name": "stderr",
     "output_type": "stream",
     "text": [
      "<frozen importlib._bootstrap>:219: RuntimeWarning: scipy._lib.messagestream.MessageStream size changed, may indicate binary incompatibility. Expected 56 from C header, got 64 from PyObject\n"
     ]
    }
   ],
   "source": [
    "\n",
    "try:\n",
    "    import openfermion as of\n",
    "    import openfermionpyscf as ofpyscf\n",
    "except ImportError:\n",
    "    print(\"Installing OpenFermion and OpenFermion-PySCF...\")\n",
    "    !pip install openfermion openfermionpyscf --quiet"
   ]
  },
  {
   "cell_type": "code",
   "execution_count": 2,
   "id": "2ddaf5c0-fa84-478c-b4a9-9b7fbe0deff4",
   "metadata": {},
   "outputs": [],
   "source": [
    "import numpy as np\n",
    "from scipy.sparse import linalg\n",
    "\n",
    "import cirq\n",
    "import openfermion as of\n",
    "import openfermionpyscf as ofpyscf\n",
    "from openfermion.chem import MolecularData\n",
    "from openfermion.transforms import jordan_wigner\n",
    "from openfermion.linalg import get_ground_state\n",
    "import numpy\n",
    "import scipy\n",
    "import scipy.linalg\n",
    "from openfermion.transforms import get_diagonal_coulomb_hamiltonian"
   ]
  },
  {
   "cell_type": "code",
   "execution_count": 112,
   "id": "450bd0da-35a3-4005-aba5-293d80902577",
   "metadata": {},
   "outputs": [
    {
     "name": "stdout",
     "output_type": "stream",
     "text": [
      "<openfermion.ops.representations.diagonal_coulomb_hamiltonian.DiagonalCoulombHamiltonian object at 0x7f60e0fc8370>\n",
      "  (0, 0)\t(0.7559674441714287+0j)\n",
      "  (1, 1)\t(0.30766774806979075+0j)\n",
      "  (2, 2)\t(0.30766774806979064+0j)\n",
      "  (3, 3)\t(0.5644736841409372+0j)\n",
      "  (12, 3)\t(0.17900057606140662+0j)\n",
      "  (4, 4)\t(-0.5218855619854464+0j)\n",
      "  (5, 5)\t(-0.47845305583973213+0j)\n",
      "  (6, 6)\t(-0.2994524797783255+0j)\n",
      "  (9, 6)\t(-0.17900057606140662+0j)\n",
      "  (7, 7)\t(0.44908565854017335+0j)\n",
      "  (8, 8)\t(-0.5218855619854467+0j)\n",
      "  (6, 9)\t(-0.17900057606140662+0j)\n",
      "  (9, 9)\t(-0.2994524797783255+0j)\n",
      "  (10, 10)\t(-0.47845305583973213+0j)\n",
      "  (11, 11)\t(0.4490856585401733+0j)\n",
      "  (3, 12)\t(0.17900057606140662+0j)\n",
      "  (12, 12)\t(-1.1173490349902795+0j)\n",
      "  (13, 13)\t(-0.4031837505358063+0j)\n",
      "  (14, 14)\t(-0.4031837505358063+0j)\n",
      "  (15, 15)\t(1.0160871660914514+0j)\n"
     ]
    }
   ],
   "source": [
    "import openfermion\n",
    "\n",
    "# Load saved file for LiH.\n",
    "diatomic_bond_length = 0.735\n",
    "geometry = [(\"H\", (0.0, 0.0, 0.0)), (\"H\", (0.0, 0.0, diatomic_bond_length))]\n",
    "basis = \"sto-3g\"\n",
    "multiplicity = 1\n",
    "charge = 0\n",
    "\n",
    "# Generate and populate instance of MolecularData.\n",
    "molecule = MolecularData(geometry, basis, multiplicity, description=\"\")\n",
    "molecule.load()\n",
    "\n",
    "# Get the Hamiltonian in an active space.\n",
    "molecular_hamiltonian = molecule.get_molecular_hamiltonian(occupied_indices=None,active_indices=None)\n",
    "\n",
    "# Map operator to fermions and qubits.\n",
    "fermion_hamiltonian = of.get_fermion_operator(molecular_hamiltonian)\n",
    "\n",
    "# Map to QubitOperator using the JWT\n",
    "hamiltonian_jw = of.jordan_wigner(fermion_hamiltonian)\n",
    "\n",
    "# Convert to Scipy sparse matrix\n",
    "hamiltonian_jw_sparse = of.get_sparse_operator(hamiltonian_jw)\n",
    "\n",
    "# Convert to DiagonalCoulombHamiltonian type.\n",
    "hamiltonian = openfermion.transforms.get_diagonal_coulomb_hamiltonian(fermion_hamiltonian,ignore_incompatible_terms=True)\n",
    "print(hamiltonian)\n",
    "print(hamiltonian_jw_sparse)"
   ]
  },
  {
   "cell_type": "code",
   "execution_count": 264,
   "id": "59ed2b47-ae93-412a-931e-5c64ab88d9f7",
   "metadata": {},
   "outputs": [
    {
     "name": "stdout",
     "output_type": "stream",
     "text": [
      "Ground_energy using Jorden Wigner Transform: -1.13619\n",
      "Ground_energy using Bravyi Kitaev Transform: -1.13619\n"
     ]
    }
   ],
   "source": [
    "# Map to QubitOperator using the JWT\n",
    "hamiltonian_jw = of.jordan_wigner(fermion_hamiltonian)\n",
    "\n",
    "# Convert to Scipy sparse matrix\n",
    "hamiltonian_jw_sparse = of.get_sparse_operator(hamiltonian_jw)\n",
    "\n",
    "# Compute ground energy\n",
    "eigs, _ = linalg.eigsh(hamiltonian_jw_sparse, k=1, which=\"SA\")\n",
    "ground_energy = eigs[0]\n",
    "\n",
    "# Map to QubitOperator using the BK\n",
    "hamiltonian_bk = of.bravyi_kitaev(fermion_hamiltonian)\n",
    "hamiltonian_bk_sparse = of.get_sparse_operator(hamiltonian_bk)\n",
    "eigs, _ = linalg.eigsh(hamiltonian_bk_sparse, k=1, which=\"SA\")\n",
    "ground_energ_bk = eigs[0]\n",
    "\n",
    "print(f\"Ground_energy using Jorden Wigner Transform: {ground_energy:.5f}\")\n",
    "print(f\"Ground_energy using Bravyi Kitaev Transform: {ground_energ_bk:.5f}\")"
   ]
  },
  {
   "cell_type": "code",
   "execution_count": 113,
   "id": "a10a906b-4fa2-4096-a6a5-13391fbee495",
   "metadata": {},
   "outputs": [
    {
     "name": "stdout",
     "output_type": "stream",
     "text": [
      "-2.6963379603455975\n"
     ]
    }
   ],
   "source": [
    "# Obtain the Bogoliubov transformation matrix.\n",
    "#quadratic_hamiltonian = openfermion.ops.QuadraticHamiltonian(hamiltonian_jw_sparse)\n",
    "quadratic_hamiltonian = openfermion.transforms.get_quadratic_hamiltonian(fermion_hamiltonian,\n",
    "                                                                         chemical_potential=0.0,\n",
    "                                                                         \n",
    "                                                                         ignore_incompatible_terms=True)\n",
    "print(quadratic_hamiltonian.ground_energy())"
   ]
  },
  {
   "cell_type": "code",
   "execution_count": 114,
   "id": "549333f9-cdcc-4f27-9bf9-87e01d5681d9",
   "metadata": {},
   "outputs": [],
   "source": [
    "_, transformation_matrix, _ = quadratic_hamiltonian.diagonalizing_bogoliubov_transform()"
   ]
  },
  {
   "cell_type": "code",
   "execution_count": 115,
   "id": "07dfd8dc-3933-4698-9f9e-b78ddcf479bf",
   "metadata": {},
   "outputs": [],
   "source": [
    "occupied_orbitals = range(2)\n",
    "n_qubits = openfermion.count_qubits(quadratic_hamiltonian)\n",
    "qubits = cirq.LineQubit.range(n_qubits)\n",
    "state_preparation_circuit = cirq.Circuit(openfermion.bogoliubov_transform(qubits, transformation_matrix, initial_state=occupied_orbitals))"
   ]
  },
  {
   "cell_type": "code",
   "execution_count": 116,
   "id": "90129c56-709a-4dad-9cdb-8f3366907ed5",
   "metadata": {},
   "outputs": [],
   "source": [
    "# obtain Hamiltonian as an InteractionOperator\n",
    "hamiltonian = ofpyscf.generate_molecular_hamiltonian(\n",
    "    geometry, basis, multiplicity, charge\n",
    ")"
   ]
  },
  {
   "cell_type": "code",
   "execution_count": 257,
   "id": "363036ba-a032-4676-8f78-da0c4089905d",
   "metadata": {},
   "outputs": [],
   "source": [
    "n_steps = 20\n",
    "order = 0\n",
    "time= 3\n",
    "# Construct circuit\n",
    "trotter_circuit = cirq.Circuit(openfermion.simulate_trotter(qubits, hamiltonian, time,\n",
    "                                                            n_steps, \n",
    "                                                            order, algorithm=of.LOW_RANK))"
   ]
  },
  {
   "cell_type": "code",
   "execution_count": 263,
   "id": "87b5927e-8cfa-4498-80ef-58eb8b3add52",
   "metadata": {},
   "outputs": [
    {
     "name": "stdout",
     "output_type": "stream",
     "text": [
      "Energy of hydrogen state obtained : -1.12\n",
      "CPU times: user 267 ms, sys: 24 ms, total: 291 ms\n",
      "Wall time: 283 ms\n"
     ]
    }
   ],
   "source": [
    "%%time\n",
    "simulator = cirq.Simulator()\n",
    "\n",
    "# Obtain initial state vector as integer.\n",
    "initial_state = sum(2 ** (n_qubits - 1 - i) for i in occupied_orbitals)\n",
    "\n",
    "# Construct and simulate circuit using the swap network methodt\n",
    "total_circuit= state_preparation_circuit+ trotter_circuit\n",
    "\n",
    "result = simulator.simulate(total_circuit, initial_state=initial_state)\n",
    "final_state = result.final_state_vector\n",
    "\n",
    "print(f\"Energy of hydrogen state obtained : {openfermion.expectation(hamiltonian_jw_sparse, final_state).real:.2f}\")\n",
    " "
   ]
  },
  {
   "cell_type": "code",
   "execution_count": null,
   "id": "d15f7c7e-89a4-4278-be8f-f289a81e8baa",
   "metadata": {},
   "outputs": [],
   "source": []
  }
 ],
 "metadata": {
  "kernelspec": {
   "display_name": "Python 3 (ipykernel)",
   "language": "python",
   "name": "python3"
  },
  "language_info": {
   "codemirror_mode": {
    "name": "ipython",
    "version": 3
   },
   "file_extension": ".py",
   "mimetype": "text/x-python",
   "name": "python",
   "nbconvert_exporter": "python",
   "pygments_lexer": "ipython3",
   "version": "3.8.12"
  },
  "widgets": {
   "application/vnd.jupyter.widget-state+json": {
    "state": {},
    "version_major": 2,
    "version_minor": 0
   }
  }
 },
 "nbformat": 4,
 "nbformat_minor": 5
}
